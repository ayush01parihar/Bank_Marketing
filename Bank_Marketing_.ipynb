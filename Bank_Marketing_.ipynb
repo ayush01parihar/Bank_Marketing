{
 "cells": [
  {
   "cell_type": "markdown",
   "id": "345bd38c",
   "metadata": {},
   "source": [
    "# Description"
   ]
  },
  {
   "cell_type": "code",
   "execution_count": 49,
   "id": "c977e336",
   "metadata": {},
   "outputs": [],
   "source": [
    "#-In this project the main objective is to predict has the client subscribed a term deposit.\n",
    "\n",
    "#-In this project ML-Models created were Support Vector Machine(SVM), Logistic Regression, K-nearest neighbour(KNN), Decision\n",
    "#Tree.\n",
    "\n",
    "#-Libraries such as Numpy, Pandas, Seaborn, Matplotlib,etc were used.\n",
    "\n",
    "#-HyperTuning were performed for KNN and also on SVM and Decision Tree using GridSearchCV.\n",
    "\n",
    "#-OrdinalEncoder was used.\n",
    "\n",
    "#-Scaling was done using StandardScaler.\n",
    "\n",
    "#-To deal with the Imbalance Dataset UnderScaling with Centroid method was performed."
   ]
  },
  {
   "cell_type": "markdown",
   "id": "cea58261",
   "metadata": {},
   "source": [
    "# Information about the Dataset:"
   ]
  },
  {
   "cell_type": "code",
   "execution_count": 44,
   "id": "b741fcb5",
   "metadata": {},
   "outputs": [],
   "source": [
    "#DataSet Link:- http://archive.ics.uci.edu/ml/datasets/Bank+Marketing#\n",
    "#\n",
    "#   The data is related with direct marketing campaigns of a Portuguese banking institution. \n",
    "#  The marketing campaigns were based on phone calls. Often, more than one contact to the same client was required, \n",
    " #  in order to access if the product (bank term deposit) would be (or not) subscribed. \n",
    "#\n",
    " #  There are two datasets: \n",
    "  # bank-full.csv with all examples, ordered by date (from May 2008 to November 2010).\n",
    "#\n",
    " #  The classification goal is to predict if the client will subscribe a term deposit (variable y).\n",
    "   \n",
    "   \n",
    "#   Input variables:\n",
    " #   bank client data:\n",
    "  # 1 - age (numeric)\n",
    "   #2 - job : type of job (categorical: \"admin.\",\"unknown\",\"unemployed\",\"management\",\"housemaid\",\"entrepreneur\",\"student\",\n",
    "   #                                    \"blue-collar\",\"self-employed\",\"retired\",\"technician\",\"services\") \n",
    "   #3 - marital : marital status (categorical: \"married\",\"divorced\",\"single\"; note: \"divorced\" means divorced or widowed)\n",
    "   #4 - education (categorical: \"unknown\",\"secondary\",\"primary\",\"tertiary\")\n",
    "   #5 - default: has credit in default? (binary: \"yes\",\"no\")\n",
    "   #6 - balance: average yearly balance, in euros (numeric) \n",
    "   #7 - housing: has housing loan? (binary: \"yes\",\"no\")\n",
    "   #8 - loan: has personal loan? (binary: \"yes\",\"no\")\n",
    "   \n",
    "   #related with the last contact of the current campaign:\n",
    "   #9 - contact: contact communication type (categorical: \"unknown\",\"telephone\",\"cellular\") \n",
    "  #10 - day: last contact day of the month (numeric)\n",
    "  #11 - month: last contact month of year (categorical: \"jan\", \"feb\", \"mar\", ..., \"nov\", \"dec\")\n",
    "  #12 - duration: last contact duration, in seconds (numeric)\n",
    "   # other attributes:\n",
    "  #13 - campaign: number of contacts performed during this campaign and for this client (numeric, includes last contact)\n",
    "  #14 - pdays: number of days that passed by after the client was last contacted from a previous campaign (numeric, -1 means client was not previously contacted)\n",
    "  #15 - previous: number of contacts performed before this campaign and for this client (numeric)\n",
    "  #16 - poutcome: outcome of the previous marketing campaign (categorical: \"unknown\",\"other\",\"failure\",\"success\")\n",
    "\n",
    "  #Output variable (desired target):\n",
    "  #17 - y - has the client subscribed a term deposit? (binary: \"yes\",\"no\")   "
   ]
  },
  {
   "cell_type": "code",
   "execution_count": 1,
   "id": "cc007bdf",
   "metadata": {},
   "outputs": [],
   "source": [
    "#importing necessary libraries\n",
    "import numpy as np\n",
    "import pandas as pd\n",
    "import matplotlib.pyplot as plt\n",
    "import seaborn as sns\n",
    "import warnings\n",
    "warnings.filterwarnings(\"ignore\")"
   ]
  },
  {
   "cell_type": "code",
   "execution_count": 2,
   "id": "941e2c50",
   "metadata": {},
   "outputs": [
    {
     "data": {
      "text/html": [
       "<div>\n",
       "<style scoped>\n",
       "    .dataframe tbody tr th:only-of-type {\n",
       "        vertical-align: middle;\n",
       "    }\n",
       "\n",
       "    .dataframe tbody tr th {\n",
       "        vertical-align: top;\n",
       "    }\n",
       "\n",
       "    .dataframe thead th {\n",
       "        text-align: right;\n",
       "    }\n",
       "</style>\n",
       "<table border=\"1\" class=\"dataframe\">\n",
       "  <thead>\n",
       "    <tr style=\"text-align: right;\">\n",
       "      <th></th>\n",
       "      <th>age</th>\n",
       "      <th>job</th>\n",
       "      <th>marital</th>\n",
       "      <th>education</th>\n",
       "      <th>default</th>\n",
       "      <th>balance</th>\n",
       "      <th>housing</th>\n",
       "      <th>loan</th>\n",
       "      <th>contact</th>\n",
       "      <th>day</th>\n",
       "      <th>month</th>\n",
       "      <th>duration</th>\n",
       "      <th>campaign</th>\n",
       "      <th>pdays</th>\n",
       "      <th>previous</th>\n",
       "      <th>poutcome</th>\n",
       "      <th>y</th>\n",
       "    </tr>\n",
       "  </thead>\n",
       "  <tbody>\n",
       "    <tr>\n",
       "      <th>0</th>\n",
       "      <td>58</td>\n",
       "      <td>management</td>\n",
       "      <td>married</td>\n",
       "      <td>tertiary</td>\n",
       "      <td>no</td>\n",
       "      <td>2143</td>\n",
       "      <td>yes</td>\n",
       "      <td>no</td>\n",
       "      <td>unknown</td>\n",
       "      <td>5</td>\n",
       "      <td>may</td>\n",
       "      <td>261</td>\n",
       "      <td>1</td>\n",
       "      <td>-1</td>\n",
       "      <td>0</td>\n",
       "      <td>unknown</td>\n",
       "      <td>no</td>\n",
       "    </tr>\n",
       "    <tr>\n",
       "      <th>1</th>\n",
       "      <td>44</td>\n",
       "      <td>technician</td>\n",
       "      <td>single</td>\n",
       "      <td>secondary</td>\n",
       "      <td>no</td>\n",
       "      <td>29</td>\n",
       "      <td>yes</td>\n",
       "      <td>no</td>\n",
       "      <td>unknown</td>\n",
       "      <td>5</td>\n",
       "      <td>may</td>\n",
       "      <td>151</td>\n",
       "      <td>1</td>\n",
       "      <td>-1</td>\n",
       "      <td>0</td>\n",
       "      <td>unknown</td>\n",
       "      <td>no</td>\n",
       "    </tr>\n",
       "    <tr>\n",
       "      <th>2</th>\n",
       "      <td>33</td>\n",
       "      <td>entrepreneur</td>\n",
       "      <td>married</td>\n",
       "      <td>secondary</td>\n",
       "      <td>no</td>\n",
       "      <td>2</td>\n",
       "      <td>yes</td>\n",
       "      <td>yes</td>\n",
       "      <td>unknown</td>\n",
       "      <td>5</td>\n",
       "      <td>may</td>\n",
       "      <td>76</td>\n",
       "      <td>1</td>\n",
       "      <td>-1</td>\n",
       "      <td>0</td>\n",
       "      <td>unknown</td>\n",
       "      <td>no</td>\n",
       "    </tr>\n",
       "    <tr>\n",
       "      <th>3</th>\n",
       "      <td>47</td>\n",
       "      <td>blue-collar</td>\n",
       "      <td>married</td>\n",
       "      <td>unknown</td>\n",
       "      <td>no</td>\n",
       "      <td>1506</td>\n",
       "      <td>yes</td>\n",
       "      <td>no</td>\n",
       "      <td>unknown</td>\n",
       "      <td>5</td>\n",
       "      <td>may</td>\n",
       "      <td>92</td>\n",
       "      <td>1</td>\n",
       "      <td>-1</td>\n",
       "      <td>0</td>\n",
       "      <td>unknown</td>\n",
       "      <td>no</td>\n",
       "    </tr>\n",
       "    <tr>\n",
       "      <th>4</th>\n",
       "      <td>33</td>\n",
       "      <td>unknown</td>\n",
       "      <td>single</td>\n",
       "      <td>unknown</td>\n",
       "      <td>no</td>\n",
       "      <td>1</td>\n",
       "      <td>no</td>\n",
       "      <td>no</td>\n",
       "      <td>unknown</td>\n",
       "      <td>5</td>\n",
       "      <td>may</td>\n",
       "      <td>198</td>\n",
       "      <td>1</td>\n",
       "      <td>-1</td>\n",
       "      <td>0</td>\n",
       "      <td>unknown</td>\n",
       "      <td>no</td>\n",
       "    </tr>\n",
       "  </tbody>\n",
       "</table>\n",
       "</div>"
      ],
      "text/plain": [
       "   age           job  marital  education default  balance housing loan  \\\n",
       "0   58    management  married   tertiary      no     2143     yes   no   \n",
       "1   44    technician   single  secondary      no       29     yes   no   \n",
       "2   33  entrepreneur  married  secondary      no        2     yes  yes   \n",
       "3   47   blue-collar  married    unknown      no     1506     yes   no   \n",
       "4   33       unknown   single    unknown      no        1      no   no   \n",
       "\n",
       "   contact  day month  duration  campaign  pdays  previous poutcome   y  \n",
       "0  unknown    5   may       261         1     -1         0  unknown  no  \n",
       "1  unknown    5   may       151         1     -1         0  unknown  no  \n",
       "2  unknown    5   may        76         1     -1         0  unknown  no  \n",
       "3  unknown    5   may        92         1     -1         0  unknown  no  \n",
       "4  unknown    5   may       198         1     -1         0  unknown  no  "
      ]
     },
     "execution_count": 2,
     "metadata": {},
     "output_type": "execute_result"
    }
   ],
   "source": [
    "#importing data set\n",
    "df = pd.read_csv(\"bank-full.csv\",sep=\";\")\n",
    "df.head()"
   ]
  },
  {
   "cell_type": "code",
   "execution_count": 3,
   "id": "a9610cf3",
   "metadata": {},
   "outputs": [
    {
     "data": {
      "text/plain": [
       "(45211, 17)"
      ]
     },
     "execution_count": 3,
     "metadata": {},
     "output_type": "execute_result"
    }
   ],
   "source": [
    "df.shape #checking (rows,columns)"
   ]
  },
  {
   "cell_type": "code",
   "execution_count": 4,
   "id": "29b5f5c4",
   "metadata": {},
   "outputs": [
    {
     "name": "stdout",
     "output_type": "stream",
     "text": [
      "<class 'pandas.core.frame.DataFrame'>\n",
      "RangeIndex: 45211 entries, 0 to 45210\n",
      "Data columns (total 17 columns):\n",
      " #   Column     Non-Null Count  Dtype \n",
      "---  ------     --------------  ----- \n",
      " 0   age        45211 non-null  int64 \n",
      " 1   job        45211 non-null  object\n",
      " 2   marital    45211 non-null  object\n",
      " 3   education  45211 non-null  object\n",
      " 4   default    45211 non-null  object\n",
      " 5   balance    45211 non-null  int64 \n",
      " 6   housing    45211 non-null  object\n",
      " 7   loan       45211 non-null  object\n",
      " 8   contact    45211 non-null  object\n",
      " 9   day        45211 non-null  int64 \n",
      " 10  month      45211 non-null  object\n",
      " 11  duration   45211 non-null  int64 \n",
      " 12  campaign   45211 non-null  int64 \n",
      " 13  pdays      45211 non-null  int64 \n",
      " 14  previous   45211 non-null  int64 \n",
      " 15  poutcome   45211 non-null  object\n",
      " 16  y          45211 non-null  object\n",
      "dtypes: int64(7), object(10)\n",
      "memory usage: 5.9+ MB\n"
     ]
    }
   ],
   "source": [
    "df.info()"
   ]
  },
  {
   "cell_type": "code",
   "execution_count": 5,
   "id": "4d1cb26f",
   "metadata": {},
   "outputs": [
    {
     "data": {
      "text/plain": [
       "no     39922\n",
       "yes     5289\n",
       "Name: y, dtype: int64"
      ]
     },
     "execution_count": 5,
     "metadata": {},
     "output_type": "execute_result"
    }
   ],
   "source": [
    "# checking imbalance\n",
    "df[\"y\"].value_counts()"
   ]
  },
  {
   "cell_type": "code",
   "execution_count": null,
   "id": "2f1d64a8",
   "metadata": {},
   "outputs": [],
   "source": [
    "#Above we can see that the data is imbalance"
   ]
  },
  {
   "cell_type": "markdown",
   "id": "bc783b3b",
   "metadata": {},
   "source": [
    "# Encoding"
   ]
  },
  {
   "cell_type": "code",
   "execution_count": 6,
   "id": "a4abb4d2",
   "metadata": {},
   "outputs": [
    {
     "name": "stdout",
     "output_type": "stream",
     "text": [
      "Index(['job', 'marital', 'education', 'default', 'housing', 'loan', 'contact',\n",
      "       'month', 'poutcome', 'y'],\n",
      "      dtype='object')\n"
     ]
    }
   ],
   "source": [
    "# selecting only thoses columns which has data type as object in order to perform encoding\n",
    "catcol=df.select_dtypes(object).columns\n",
    "print(catcol)"
   ]
  },
  {
   "cell_type": "code",
   "execution_count": 7,
   "id": "f198dc37",
   "metadata": {},
   "outputs": [
    {
     "data": {
      "text/html": [
       "<div>\n",
       "<style scoped>\n",
       "    .dataframe tbody tr th:only-of-type {\n",
       "        vertical-align: middle;\n",
       "    }\n",
       "\n",
       "    .dataframe tbody tr th {\n",
       "        vertical-align: top;\n",
       "    }\n",
       "\n",
       "    .dataframe thead th {\n",
       "        text-align: right;\n",
       "    }\n",
       "</style>\n",
       "<table border=\"1\" class=\"dataframe\">\n",
       "  <thead>\n",
       "    <tr style=\"text-align: right;\">\n",
       "      <th></th>\n",
       "      <th>job</th>\n",
       "      <th>marital</th>\n",
       "      <th>education</th>\n",
       "      <th>default</th>\n",
       "      <th>housing</th>\n",
       "      <th>loan</th>\n",
       "      <th>contact</th>\n",
       "      <th>month</th>\n",
       "      <th>poutcome</th>\n",
       "      <th>y</th>\n",
       "    </tr>\n",
       "  </thead>\n",
       "  <tbody>\n",
       "    <tr>\n",
       "      <th>0</th>\n",
       "      <td>management</td>\n",
       "      <td>married</td>\n",
       "      <td>tertiary</td>\n",
       "      <td>no</td>\n",
       "      <td>yes</td>\n",
       "      <td>no</td>\n",
       "      <td>unknown</td>\n",
       "      <td>may</td>\n",
       "      <td>unknown</td>\n",
       "      <td>no</td>\n",
       "    </tr>\n",
       "    <tr>\n",
       "      <th>1</th>\n",
       "      <td>technician</td>\n",
       "      <td>single</td>\n",
       "      <td>secondary</td>\n",
       "      <td>no</td>\n",
       "      <td>yes</td>\n",
       "      <td>no</td>\n",
       "      <td>unknown</td>\n",
       "      <td>may</td>\n",
       "      <td>unknown</td>\n",
       "      <td>no</td>\n",
       "    </tr>\n",
       "    <tr>\n",
       "      <th>2</th>\n",
       "      <td>entrepreneur</td>\n",
       "      <td>married</td>\n",
       "      <td>secondary</td>\n",
       "      <td>no</td>\n",
       "      <td>yes</td>\n",
       "      <td>yes</td>\n",
       "      <td>unknown</td>\n",
       "      <td>may</td>\n",
       "      <td>unknown</td>\n",
       "      <td>no</td>\n",
       "    </tr>\n",
       "    <tr>\n",
       "      <th>3</th>\n",
       "      <td>blue-collar</td>\n",
       "      <td>married</td>\n",
       "      <td>unknown</td>\n",
       "      <td>no</td>\n",
       "      <td>yes</td>\n",
       "      <td>no</td>\n",
       "      <td>unknown</td>\n",
       "      <td>may</td>\n",
       "      <td>unknown</td>\n",
       "      <td>no</td>\n",
       "    </tr>\n",
       "    <tr>\n",
       "      <th>4</th>\n",
       "      <td>unknown</td>\n",
       "      <td>single</td>\n",
       "      <td>unknown</td>\n",
       "      <td>no</td>\n",
       "      <td>no</td>\n",
       "      <td>no</td>\n",
       "      <td>unknown</td>\n",
       "      <td>may</td>\n",
       "      <td>unknown</td>\n",
       "      <td>no</td>\n",
       "    </tr>\n",
       "  </tbody>\n",
       "</table>\n",
       "</div>"
      ],
      "text/plain": [
       "            job  marital  education default housing loan  contact month  \\\n",
       "0    management  married   tertiary      no     yes   no  unknown   may   \n",
       "1    technician   single  secondary      no     yes   no  unknown   may   \n",
       "2  entrepreneur  married  secondary      no     yes  yes  unknown   may   \n",
       "3   blue-collar  married    unknown      no     yes   no  unknown   may   \n",
       "4       unknown   single    unknown      no      no   no  unknown   may   \n",
       "\n",
       "  poutcome   y  \n",
       "0  unknown  no  \n",
       "1  unknown  no  \n",
       "2  unknown  no  \n",
       "3  unknown  no  \n",
       "4  unknown  no  "
      ]
     },
     "execution_count": 7,
     "metadata": {},
     "output_type": "execute_result"
    }
   ],
   "source": [
    "df[catcol].head()"
   ]
  },
  {
   "cell_type": "code",
   "execution_count": 8,
   "id": "1c13b661",
   "metadata": {},
   "outputs": [
    {
     "data": {
      "text/html": [
       "<div>\n",
       "<style scoped>\n",
       "    .dataframe tbody tr th:only-of-type {\n",
       "        vertical-align: middle;\n",
       "    }\n",
       "\n",
       "    .dataframe tbody tr th {\n",
       "        vertical-align: top;\n",
       "    }\n",
       "\n",
       "    .dataframe thead th {\n",
       "        text-align: right;\n",
       "    }\n",
       "</style>\n",
       "<table border=\"1\" class=\"dataframe\">\n",
       "  <thead>\n",
       "    <tr style=\"text-align: right;\">\n",
       "      <th></th>\n",
       "      <th>age</th>\n",
       "      <th>job</th>\n",
       "      <th>marital</th>\n",
       "      <th>education</th>\n",
       "      <th>default</th>\n",
       "      <th>balance</th>\n",
       "      <th>housing</th>\n",
       "      <th>loan</th>\n",
       "      <th>contact</th>\n",
       "      <th>day</th>\n",
       "      <th>month</th>\n",
       "      <th>duration</th>\n",
       "      <th>campaign</th>\n",
       "      <th>pdays</th>\n",
       "      <th>previous</th>\n",
       "      <th>poutcome</th>\n",
       "      <th>y</th>\n",
       "    </tr>\n",
       "  </thead>\n",
       "  <tbody>\n",
       "    <tr>\n",
       "      <th>0</th>\n",
       "      <td>58</td>\n",
       "      <td>4.0</td>\n",
       "      <td>1.0</td>\n",
       "      <td>2.0</td>\n",
       "      <td>0.0</td>\n",
       "      <td>2143</td>\n",
       "      <td>1.0</td>\n",
       "      <td>0.0</td>\n",
       "      <td>2.0</td>\n",
       "      <td>5</td>\n",
       "      <td>8.0</td>\n",
       "      <td>261</td>\n",
       "      <td>1</td>\n",
       "      <td>-1</td>\n",
       "      <td>0</td>\n",
       "      <td>3.0</td>\n",
       "      <td>0.0</td>\n",
       "    </tr>\n",
       "    <tr>\n",
       "      <th>1</th>\n",
       "      <td>44</td>\n",
       "      <td>9.0</td>\n",
       "      <td>2.0</td>\n",
       "      <td>1.0</td>\n",
       "      <td>0.0</td>\n",
       "      <td>29</td>\n",
       "      <td>1.0</td>\n",
       "      <td>0.0</td>\n",
       "      <td>2.0</td>\n",
       "      <td>5</td>\n",
       "      <td>8.0</td>\n",
       "      <td>151</td>\n",
       "      <td>1</td>\n",
       "      <td>-1</td>\n",
       "      <td>0</td>\n",
       "      <td>3.0</td>\n",
       "      <td>0.0</td>\n",
       "    </tr>\n",
       "    <tr>\n",
       "      <th>2</th>\n",
       "      <td>33</td>\n",
       "      <td>2.0</td>\n",
       "      <td>1.0</td>\n",
       "      <td>1.0</td>\n",
       "      <td>0.0</td>\n",
       "      <td>2</td>\n",
       "      <td>1.0</td>\n",
       "      <td>1.0</td>\n",
       "      <td>2.0</td>\n",
       "      <td>5</td>\n",
       "      <td>8.0</td>\n",
       "      <td>76</td>\n",
       "      <td>1</td>\n",
       "      <td>-1</td>\n",
       "      <td>0</td>\n",
       "      <td>3.0</td>\n",
       "      <td>0.0</td>\n",
       "    </tr>\n",
       "    <tr>\n",
       "      <th>3</th>\n",
       "      <td>47</td>\n",
       "      <td>1.0</td>\n",
       "      <td>1.0</td>\n",
       "      <td>3.0</td>\n",
       "      <td>0.0</td>\n",
       "      <td>1506</td>\n",
       "      <td>1.0</td>\n",
       "      <td>0.0</td>\n",
       "      <td>2.0</td>\n",
       "      <td>5</td>\n",
       "      <td>8.0</td>\n",
       "      <td>92</td>\n",
       "      <td>1</td>\n",
       "      <td>-1</td>\n",
       "      <td>0</td>\n",
       "      <td>3.0</td>\n",
       "      <td>0.0</td>\n",
       "    </tr>\n",
       "    <tr>\n",
       "      <th>4</th>\n",
       "      <td>33</td>\n",
       "      <td>11.0</td>\n",
       "      <td>2.0</td>\n",
       "      <td>3.0</td>\n",
       "      <td>0.0</td>\n",
       "      <td>1</td>\n",
       "      <td>0.0</td>\n",
       "      <td>0.0</td>\n",
       "      <td>2.0</td>\n",
       "      <td>5</td>\n",
       "      <td>8.0</td>\n",
       "      <td>198</td>\n",
       "      <td>1</td>\n",
       "      <td>-1</td>\n",
       "      <td>0</td>\n",
       "      <td>3.0</td>\n",
       "      <td>0.0</td>\n",
       "    </tr>\n",
       "  </tbody>\n",
       "</table>\n",
       "</div>"
      ],
      "text/plain": [
       "   age   job  marital  education  default  balance  housing  loan  contact  \\\n",
       "0   58   4.0      1.0        2.0      0.0     2143      1.0   0.0      2.0   \n",
       "1   44   9.0      2.0        1.0      0.0       29      1.0   0.0      2.0   \n",
       "2   33   2.0      1.0        1.0      0.0        2      1.0   1.0      2.0   \n",
       "3   47   1.0      1.0        3.0      0.0     1506      1.0   0.0      2.0   \n",
       "4   33  11.0      2.0        3.0      0.0        1      0.0   0.0      2.0   \n",
       "\n",
       "   day  month  duration  campaign  pdays  previous  poutcome    y  \n",
       "0    5    8.0       261         1     -1         0       3.0  0.0  \n",
       "1    5    8.0       151         1     -1         0       3.0  0.0  \n",
       "2    5    8.0        76         1     -1         0       3.0  0.0  \n",
       "3    5    8.0        92         1     -1         0       3.0  0.0  \n",
       "4    5    8.0       198         1     -1         0       3.0  0.0  "
      ]
     },
     "execution_count": 8,
     "metadata": {},
     "output_type": "execute_result"
    }
   ],
   "source": [
    "#Using Ordinal Encoder\n",
    "\n",
    "from sklearn.preprocessing import OrdinalEncoder\n",
    "oe = OrdinalEncoder()\n",
    "df[catcol]=oe.fit_transform(df[catcol])\n",
    "df.head()"
   ]
  },
  {
   "cell_type": "code",
   "execution_count": 9,
   "id": "1acc1bd1",
   "metadata": {},
   "outputs": [
    {
     "data": {
      "image/png": "[encoded data removed]",
      "text/plain": [
       "<Figure size 1296x432 with 2 Axes>"
      ]
     },
     "metadata": {
      "needs_background": "light"
     },
     "output_type": "display_data"
    }
   ],
   "source": [
    "# generating heatmap for visualizating correlations amoungs the columns\n",
    "plt.figure(figsize=(18,6))\n",
    "sns.heatmap(df.corr(),annot=True,cmap=\"rainbow\")\n",
    "plt.show()"
   ]
  },
  {
   "cell_type": "markdown",
   "id": "7df8a0a8",
   "metadata": {},
   "source": [
    "# Fixing Imbalance Data by using Underscaling with centroid method"
   ]
  },
  {
   "cell_type": "code",
   "execution_count": 10,
   "id": "6dda1ecb",
   "metadata": {},
   "outputs": [],
   "source": [
    "# seperating features and target\n",
    "x=df.iloc[:,:-1]\n",
    "y=df.iloc[:,-1]"
   ]
  },
  {
   "cell_type": "code",
   "execution_count": 11,
   "id": "097fb4c0",
   "metadata": {},
   "outputs": [],
   "source": [
    "# centroid method forms clusters to remove the imbalance\n",
    "from imblearn.under_sampling import ClusterCentroids\n",
    "cc = ClusterCentroids(random_state=42)\n",
    "X,Y = cc.fit_resample(x,y)"
   ]
  },
  {
   "cell_type": "code",
   "execution_count": 12,
   "id": "847d17e1",
   "metadata": {},
   "outputs": [
    {
     "name": "stdout",
     "output_type": "stream",
     "text": [
      "Before Underscaling:\n",
      "0.0    39922\n",
      "1.0     5289\n",
      "Name: y, dtype: int64\n",
      "\n",
      "After Underscaling:\n",
      "0.0    5289\n",
      "1.0    5289\n",
      "Name: y, dtype: int64\n"
     ]
    }
   ],
   "source": [
    "print(f\"Before Underscaling:\\n{y.value_counts()}\\n\\nAfter Underscaling:\\n{Y.value_counts()}\")"
   ]
  },
  {
   "cell_type": "code",
   "execution_count": 13,
   "id": "69222ca9",
   "metadata": {},
   "outputs": [],
   "source": [
    "from sklearn.model_selection import train_test_split\n",
    "xtrain,xtest,ytrain,ytest = train_test_split(X,Y,test_size=0.3,random_state=1,stratify=Y)"
   ]
  },
  {
   "cell_type": "markdown",
   "id": "5f7b7a29",
   "metadata": {},
   "source": [
    "# SVM Model along with Scaling using Pipe"
   ]
  },
  {
   "cell_type": "code",
   "execution_count": 14,
   "id": "41d85aee",
   "metadata": {},
   "outputs": [],
   "source": [
    "# pipe are used to define steps in this case scaling then svm \n",
    "from sklearn.pipeline import Pipeline\n",
    "from sklearn.preprocessing import StandardScaler\n",
    "from sklearn.svm import SVC"
   ]
  },
  {
   "cell_type": "code",
   "execution_count": 15,
   "id": "5d98a835",
   "metadata": {},
   "outputs": [],
   "source": [
    "pipe = Pipeline(\n",
    "steps=[\n",
    " (\"scaler\",StandardScaler()),\n",
    " (\"svm\",SVC())\n",
    " ]\n",
    " )\n",
    "pipe.fit(xtrain,ytrain)\n",
    "ypred = pipe.predict(xtest)"
   ]
  },
  {
   "cell_type": "code",
   "execution_count": 16,
   "id": "a4265be1",
   "metadata": {},
   "outputs": [
    {
     "name": "stdout",
     "output_type": "stream",
     "text": [
      "Accuracy:- 0.8913043478260869\n",
      " ROC:- 0.891304347826087\n",
      "\n",
      " [[1344  243]\n",
      " [ 102 1485]]\n",
      "               precision    recall  f1-score   support\n",
      "\n",
      "         0.0       0.93      0.85      0.89      1587\n",
      "         1.0       0.86      0.94      0.90      1587\n",
      "\n",
      "    accuracy                           0.89      3174\n",
      "   macro avg       0.89      0.89      0.89      3174\n",
      "weighted avg       0.89      0.89      0.89      3174\n",
      "\n",
      "Training Accuracy:- 0.9122096164235548\n",
      " Testing Accuracy:- 0.8913043478260869\n"
     ]
    }
   ],
   "source": [
    "from sklearn.metrics import accuracy_score,roc_auc_score,confusion_matrix,classification_report\n",
    "ac = accuracy_score(ytest,ypred)\n",
    "ra = roc_auc_score(ytest,ypred)\n",
    "cm = confusion_matrix(ytest,ypred)\n",
    "cr = classification_report(ytest,ypred)\n",
    "print(f\"Accuracy:- {ac}\\n ROC:- {ra}\\n\\n {cm}\\n {cr}\")\n",
    "\n",
    "train = pipe.score(xtrain,ytrain)\n",
    "test = pipe.score(xtest,ytest)\n",
    "print(f\"Training Accuracy:- {train}\\n Testing Accuracy:- {test}\")"
   ]
  },
  {
   "cell_type": "code",
   "execution_count": 17,
   "id": "3ea4e55b",
   "metadata": {},
   "outputs": [
    {
     "name": "stdout",
     "output_type": "stream",
     "text": [
      "Confusion Matrix:- \n"
     ]
    },
    {
     "data": {
      "image/png": "[encoded data removed]",
      "text/plain": [
       "<Figure size 432x288 with 2 Axes>"
      ]
     },
     "metadata": {
      "needs_background": "light"
     },
     "output_type": "display_data"
    }
   ],
   "source": [
    "print(\"Confusion Matrix:- \")\n",
    "plt.figure(figsize=(6,4))\n",
    "sns.heatmap(confusion_matrix(ytest,ypred),annot=True,cmap=\"Greens\",fmt=\"d\")\n",
    "plt.show()"
   ]
  },
  {
   "cell_type": "markdown",
   "id": "c6429d34",
   "metadata": {},
   "source": [
    "## Scaling data"
   ]
  },
  {
   "cell_type": "code",
   "execution_count": 18,
   "id": "c1612ae3",
   "metadata": {},
   "outputs": [],
   "source": [
    "from sklearn.preprocessing import StandardScaler\n",
    "sc = StandardScaler()\n",
    "xtrains = sc.fit_transform(xtrain)\n",
    "xtests = sc.transform(xtest)"
   ]
  },
  {
   "cell_type": "markdown",
   "id": "d3c72fec",
   "metadata": {},
   "source": [
    "### Applying GridSerchCV"
   ]
  },
  {
   "cell_type": "code",
   "execution_count": 19,
   "id": "0aaf5ff4",
   "metadata": {},
   "outputs": [],
   "source": [
    "# Hypertuning for svm\n",
    "from sklearn.model_selection import GridSearchCV\n",
    "\n",
    "parameter = {\n",
    "\"C\":[0.1,1,10],\n",
    "\"gamma\":[0.1,0.01,0.001],\n",
    "\"kernel\":[\"rbf\",\"poly\"]\n",
    "}"
   ]
  },
  {
   "cell_type": "code",
   "execution_count": 20,
   "id": "1234e66f",
   "metadata": {},
   "outputs": [
    {
     "name": "stdout",
     "output_type": "stream",
     "text": [
      "Fitting 5 folds for each of 18 candidates, totalling 90 fits\n"
     ]
    },
    {
     "data": {
      "text/plain": [
       "GridSearchCV(estimator=SVC(), n_jobs=-1,\n",
       "             param_grid={'C': [0.1, 1, 10], 'gamma': [0.1, 0.01, 0.001],\n",
       "                         'kernel': ['rbf', 'poly']},\n",
       "             verbose=2)"
      ]
     },
     "execution_count": 20,
     "metadata": {},
     "output_type": "execute_result"
    }
   ],
   "source": [
    "grid = GridSearchCV(SVC(), parameter, verbose=2,n_jobs=-1 )\n",
    "grid.fit(xtrains,ytrain)"
   ]
  },
  {
   "cell_type": "code",
   "execution_count": 21,
   "id": "26dd2677",
   "metadata": {},
   "outputs": [
    {
     "data": {
      "text/plain": [
       "{'C': 1, 'gamma': 0.1, 'kernel': 'rbf'}"
      ]
     },
     "execution_count": 21,
     "metadata": {},
     "output_type": "execute_result"
    }
   ],
   "source": [
    "grid.best_params_"
   ]
  },
  {
   "cell_type": "code",
   "execution_count": 22,
   "id": "33be5e50",
   "metadata": {},
   "outputs": [
    {
     "data": {
      "text/plain": [
       "SVC(C=1, gamma=0.1)"
      ]
     },
     "execution_count": 22,
     "metadata": {},
     "output_type": "execute_result"
    }
   ],
   "source": [
    "grid.best_estimator_"
   ]
  },
  {
   "cell_type": "code",
   "execution_count": 23,
   "id": "5fe067df",
   "metadata": {},
   "outputs": [],
   "source": [
    "# applying the best parameters \n",
    "svm =grid.best_estimator_\n",
    "svm.fit(xtrains,ytrain)\n",
    "ypred = svm.predict(xtests)"
   ]
  },
  {
   "cell_type": "code",
   "execution_count": 24,
   "id": "6a222ffe",
   "metadata": {},
   "outputs": [
    {
     "name": "stdout",
     "output_type": "stream",
     "text": [
      "Accuracy:- 0.8862633900441084\n",
      " ROC:- 0.8862633900441083\n",
      "\n",
      " [[1333  254]\n",
      " [ 107 1480]]\n",
      "               precision    recall  f1-score   support\n",
      "\n",
      "         0.0       0.93      0.84      0.88      1587\n",
      "         1.0       0.85      0.93      0.89      1587\n",
      "\n",
      "    accuracy                           0.89      3174\n",
      "   macro avg       0.89      0.89      0.89      3174\n",
      "weighted avg       0.89      0.89      0.89      3174\n",
      "\n",
      "Training Accuracy:- 0.9269313884386818\n",
      " Testing Accuracy:- 0.8862633900441084\n"
     ]
    }
   ],
   "source": [
    "ypred = svm.predict(xtests)\n",
    "\n",
    "ac = accuracy_score(ytest,ypred)\n",
    "ra = roc_auc_score(ytest,ypred)\n",
    "cm = confusion_matrix(ytest,ypred)\n",
    "cr = classification_report(ytest,ypred)\n",
    "print(f\"Accuracy:- {ac}\\n ROC:- {ra}\\n\\n {cm}\\n {cr}\")\n",
    "\n",
    "train = svm.score(xtrains,ytrain)\n",
    "test = svm.score(xtests,ytest)\n",
    "print(f\"Training Accuracy:- {train}\\n Testing Accuracy:- {test}\")"
   ]
  },
  {
   "cell_type": "code",
   "execution_count": 25,
   "id": "ec00b841",
   "metadata": {},
   "outputs": [
    {
     "name": "stdout",
     "output_type": "stream",
     "text": [
      "Confusion Matrix:- \n"
     ]
    },
    {
     "data": {
      "image/png": "[encoded data removed]",
      "text/plain": [
       "<Figure size 432x288 with 2 Axes>"
      ]
     },
     "metadata": {
      "needs_background": "light"
     },
     "output_type": "display_data"
    }
   ],
   "source": [
    "print(\"Confusion Matrix:- \")\n",
    "plt.figure(figsize=(6,4))\n",
    "sns.heatmap(confusion_matrix(ytest,ypred),annot=True,cmap=\"Greens\",fmt=\"d\")\n",
    "plt.show()"
   ]
  },
  {
   "cell_type": "markdown",
   "id": "56d311ed",
   "metadata": {},
   "source": [
    "# Logistic Regression Model"
   ]
  },
  {
   "cell_type": "code",
   "execution_count": 26,
   "id": "5f0b2ce9",
   "metadata": {},
   "outputs": [
    {
     "data": {
      "text/plain": [
       "LogisticRegression()"
      ]
     },
     "execution_count": 26,
     "metadata": {},
     "output_type": "execute_result"
    }
   ],
   "source": [
    "from sklearn.linear_model import LogisticRegression\n",
    "logreg =LogisticRegression()\n",
    "logreg.fit(xtrains,ytrain)"
   ]
  },
  {
   "cell_type": "code",
   "execution_count": 27,
   "id": "34ad966d",
   "metadata": {},
   "outputs": [
    {
     "name": "stdout",
     "output_type": "stream",
     "text": [
      "Accuracy:- 0.7763074984247007\n",
      " ROC:- 0.7763074984247007\n",
      "\n",
      " [[1254  333]\n",
      " [ 377 1210]]\n",
      "               precision    recall  f1-score   support\n",
      "\n",
      "         0.0       0.77      0.79      0.78      1587\n",
      "         1.0       0.78      0.76      0.77      1587\n",
      "\n",
      "    accuracy                           0.78      3174\n",
      "   macro avg       0.78      0.78      0.78      3174\n",
      "weighted avg       0.78      0.78      0.78      3174\n",
      "\n",
      "Training Accuracy:- 0.7703943814154511\n",
      " Testing Accuracy:- 0.7763074984247007\n"
     ]
    }
   ],
   "source": [
    "ypred = logreg.predict(xtests)\n",
    "\n",
    "ac = accuracy_score(ytest,ypred)\n",
    "ra = roc_auc_score(ytest,ypred)\n",
    "cm = confusion_matrix(ytest,ypred)\n",
    "cr = classification_report(ytest,ypred)\n",
    "print(f\"Accuracy:- {ac}\\n ROC:- {ra}\\n\\n {cm}\\n {cr}\")\n",
    "\n",
    "train = logreg.score(xtrains,ytrain)\n",
    "test = logreg.score(xtests,ytest)\n",
    "print(f\"Training Accuracy:- {train}\\n Testing Accuracy:- {test}\")"
   ]
  },
  {
   "cell_type": "code",
   "execution_count": 28,
   "id": "554caa93",
   "metadata": {},
   "outputs": [
    {
     "name": "stdout",
     "output_type": "stream",
     "text": [
      "Confusion Matrix:- \n"
     ]
    },
    {
     "data": {
      "image/png": "[encoded data removed]",
      "text/plain": [
       "<Figure size 432x288 with 2 Axes>"
      ]
     },
     "metadata": {
      "needs_background": "light"
     },
     "output_type": "display_data"
    }
   ],
   "source": [
    "print(\"Confusion Matrix:- \")\n",
    "plt.figure(figsize=(6,4))\n",
    "sns.heatmap(confusion_matrix(ytest,ypred),annot=True,cmap=\"Greens\",fmt=\"d\")\n",
    "plt.show()"
   ]
  },
  {
   "cell_type": "markdown",
   "id": "2c789678",
   "metadata": {},
   "source": [
    "# KNN Model"
   ]
  },
  {
   "cell_type": "code",
   "execution_count": 29,
   "id": "00ac6013",
   "metadata": {},
   "outputs": [
    {
     "data": {
      "text/plain": [
       "KNeighborsClassifier()"
      ]
     },
     "execution_count": 29,
     "metadata": {},
     "output_type": "execute_result"
    }
   ],
   "source": [
    "from sklearn.neighbors import KNeighborsClassifier\n",
    "knn = KNeighborsClassifier()\n",
    "knn.fit(xtrains,ytrain)"
   ]
  },
  {
   "cell_type": "code",
   "execution_count": 30,
   "id": "2fc6e7de",
   "metadata": {},
   "outputs": [
    {
     "name": "stdout",
     "output_type": "stream",
     "text": [
      "Accuracy:- 0.8746061751732829\n",
      " ROC:- 0.8746061751732829\n",
      "\n",
      " [[1362  225]\n",
      " [ 173 1414]]\n",
      "               precision    recall  f1-score   support\n",
      "\n",
      "         0.0       0.89      0.86      0.87      1587\n",
      "         1.0       0.86      0.89      0.88      1587\n",
      "\n",
      "    accuracy                           0.87      3174\n",
      "   macro avg       0.88      0.87      0.87      3174\n",
      "weighted avg       0.88      0.87      0.87      3174\n",
      "\n",
      "Training Accuracy:- 0.9078876283090221\n",
      " Testing Accuracy:- 0.8746061751732829\n"
     ]
    }
   ],
   "source": [
    "ypred = knn.predict(xtests)\n",
    "\n",
    "ac = accuracy_score(ytest,ypred)\n",
    "ra = roc_auc_score(ytest,ypred)\n",
    "cm = confusion_matrix(ytest,ypred)\n",
    "cr = classification_report(ytest,ypred)\n",
    "print(f\"Accuracy:- {ac}\\n ROC:- {ra}\\n\\n {cm}\\n {cr}\")\n",
    "\n",
    "train = knn.score(xtrains,ytrain)\n",
    "test = knn.score(xtests,ytest)\n",
    "print(f\"Training Accuracy:- {train}\\n Testing Accuracy:- {test}\")"
   ]
  },
  {
   "cell_type": "markdown",
   "id": "6c20ac4c",
   "metadata": {},
   "source": [
    "#### Hypertuning for KNN"
   ]
  },
  {
   "cell_type": "code",
   "execution_count": 31,
   "id": "66a6fdd2",
   "metadata": {},
   "outputs": [
    {
     "name": "stdout",
     "output_type": "stream",
     "text": [
      "1 1.0 0.8632640201638311 0.13673597983616892\n",
      "2 0.9293625067531064 0.8339634530560807 0.09539905369702573\n",
      "3 0.9208535926526202 0.8724007561436673 0.048452836508952934\n",
      "4 0.9111291193949217 0.8563327032136105 0.05479641618131115\n",
      "5 0.9078876283090221 0.8746061751732829 0.03328145313573927\n",
      "6 0.9004592112371691 0.8657844990548205 0.03467471218234863\n",
      "7 0.9027552674230146 0.8768115942028986 0.025943673220116037\n",
      "8 0.8984332793084819 0.8683049779458097 0.030128301362672194\n",
      "9 0.8951917882225824 0.8787019533711405 0.016489834851441842\n",
      "10 0.8903295515937332 0.8724007561436673 0.01792879545006587\n",
      "11 0.8916801728795246 0.8758664146187776 0.015813758260747046\n",
      "12 0.8869529983792545 0.8730308758664146 0.013922122512839863\n",
      "13 0.8878984332793085 0.8755513547574039 0.012347078521904642\n",
      "14 0.8851971907077255 0.8705103969754253 0.014686793732300196\n",
      "15 0.8857374392220422 0.8720856962822936 0.013651742939748579\n",
      "16 0.8820907617504052 0.8701953371140516 0.011895424636353624\n",
      "17 0.8831712587790383 0.8739760554505356 0.009195203328502766\n",
      "18 0.8797947055645597 0.8720856962822936 0.007709009282266144\n",
      "19 0.8814154511075094 0.8733459357277883 0.008069515379721115\n",
      "20 0.8774986493787142 0.870825456836799 0.006673192541915229\n",
      "21 0.87817396002161 0.8758664146187776 0.0023075454028324005\n",
      "22 0.8774986493787142 0.8701953371140516 0.007303312264662631\n",
      "23 0.8773635872501351 0.8720856962822936 0.005277890967841481\n",
      "24 0.8743922204213939 0.8667296786389413 0.007662541782452514\n"
     ]
    }
   ],
   "source": [
    "for i in range(1,25):\n",
    "    knn = KNeighborsClassifier(n_neighbors=i)\n",
    "    knn.fit(xtrains,ytrain)\n",
    "    train = knn.score(xtrains,ytrain)\n",
    "    test = knn.score(xtests,ytest)\n",
    "    print(f\"{i} {train} {test} {train-test}\")"
   ]
  },
  {
   "cell_type": "code",
   "execution_count": 32,
   "id": "f6e0bb78",
   "metadata": {},
   "outputs": [
    {
     "name": "stdout",
     "output_type": "stream",
     "text": [
      "Accuracy:- 0.8758664146187776\n",
      " ROC:- 0.8758664146187776\n",
      "\n",
      " [[1381  206]\n",
      " [ 188 1399]]\n",
      "               precision    recall  f1-score   support\n",
      "\n",
      "         0.0       0.88      0.87      0.88      1587\n",
      "         1.0       0.87      0.88      0.88      1587\n",
      "\n",
      "    accuracy                           0.88      3174\n",
      "   macro avg       0.88      0.88      0.88      3174\n",
      "weighted avg       0.88      0.88      0.88      3174\n",
      "\n",
      "Training Accuracy:- 0.87817396002161\n",
      " Testing Accuracy:- 0.8758664146187776\n"
     ]
    }
   ],
   "source": [
    "from sklearn.neighbors import KNeighborsClassifier\n",
    "knn = KNeighborsClassifier(n_neighbors=21)\n",
    "knn.fit(xtrains,ytrain)\n",
    "ypred = knn.predict(xtests)\n",
    "\n",
    "ac = accuracy_score(ytest,ypred)\n",
    "ra = roc_auc_score(ytest,ypred)\n",
    "cm = confusion_matrix(ytest,ypred)\n",
    "cr = classification_report(ytest,ypred)\n",
    "print(f\"Accuracy:- {ac}\\n ROC:- {ra}\\n\\n {cm}\\n {cr}\")\n",
    "\n",
    "train = knn.score(xtrains,ytrain)\n",
    "test = knn.score(xtests,ytest)\n",
    "print(f\"Training Accuracy:- {train}\\n Testing Accuracy:- {test}\")"
   ]
  },
  {
   "cell_type": "code",
   "execution_count": 33,
   "id": "6170e0fa",
   "metadata": {},
   "outputs": [
    {
     "name": "stdout",
     "output_type": "stream",
     "text": [
      "Confusion Matrix:- \n"
     ]
    },
    {
     "data": {
      "image/png": "[encoded data removed]",
      "text/plain": [
       "<Figure size 432x288 with 2 Axes>"
      ]
     },
     "metadata": {
      "needs_background": "light"
     },
     "output_type": "display_data"
    }
   ],
   "source": [
    "print(\"Confusion Matrix:- \")\n",
    "plt.figure(figsize=(6,4))\n",
    "sns.heatmap(confusion_matrix(ytest,ypred),annot=True,cmap=\"Greens\",fmt=\"d\")\n",
    "plt.show()"
   ]
  },
  {
   "cell_type": "markdown",
   "id": "5c592a4b",
   "metadata": {},
   "source": [
    "# Decision Tree Model"
   ]
  },
  {
   "cell_type": "code",
   "execution_count": 34,
   "id": "626d2048",
   "metadata": {},
   "outputs": [
    {
     "data": {
      "text/plain": [
       "DecisionTreeClassifier()"
      ]
     },
     "execution_count": 34,
     "metadata": {},
     "output_type": "execute_result"
    }
   ],
   "source": [
    "from sklearn.tree import DecisionTreeClassifier\n",
    "\n",
    "model = DecisionTreeClassifier()\n",
    "model.fit(xtrains, ytrain)"
   ]
  },
  {
   "cell_type": "code",
   "execution_count": 35,
   "id": "eaa79ff3",
   "metadata": {},
   "outputs": [
    {
     "name": "stdout",
     "output_type": "stream",
     "text": [
      "Accuracy:- 0.8557025834908633\n",
      " ROC:- 0.8557025834908633\n",
      "\n",
      " [[1368  219]\n",
      " [ 239 1348]]\n",
      "               precision    recall  f1-score   support\n",
      "\n",
      "         0.0       0.85      0.86      0.86      1587\n",
      "         1.0       0.86      0.85      0.85      1587\n",
      "\n",
      "    accuracy                           0.86      3174\n",
      "   macro avg       0.86      0.86      0.86      3174\n",
      "weighted avg       0.86      0.86      0.86      3174\n",
      "\n",
      "Training Accuracy:- 1.0\n",
      " Testing Accuracy:- 0.8557025834908633\n"
     ]
    }
   ],
   "source": [
    "ypred = model.predict(xtests)\n",
    "\n",
    "ac = accuracy_score(ytest,ypred)\n",
    "cm = confusion_matrix(ytest,ypred)\n",
    "cr = classification_report(ytest,ypred)\n",
    "ra = roc_auc_score(ytest,ypred)\n",
    "print(f\"Accuracy:- {ac}\\n ROC:- {ra}\\n\\n {cm}\\n {cr}\")\n",
    "\n",
    "train = model.score(xtrains,ytrain)\n",
    "test = model.score(xtests,ytest)\n",
    "print(f\"Training Accuracy:- {train}\\n Testing Accuracy:- {test}\")"
   ]
  },
  {
   "cell_type": "markdown",
   "id": "49c7b0a8",
   "metadata": {},
   "source": [
    "#### GridSearchCV"
   ]
  },
  {
   "cell_type": "code",
   "execution_count": 36,
   "id": "60746d47",
   "metadata": {},
   "outputs": [
    {
     "data": {
      "text/plain": [
       "dict_keys(['ccp_alpha', 'class_weight', 'criterion', 'max_depth', 'max_features', 'max_leaf_nodes', 'min_impurity_decrease', 'min_samples_leaf', 'min_samples_split', 'min_weight_fraction_leaf', 'random_state', 'splitter'])"
      ]
     },
     "execution_count": 36,
     "metadata": {},
     "output_type": "execute_result"
    }
   ],
   "source": [
    "model.get_params().keys()"
   ]
  },
  {
   "cell_type": "code",
   "execution_count": 37,
   "id": "2c941452",
   "metadata": {},
   "outputs": [],
   "source": [
    "param_grid = {\n",
    "    'max_depth': [3, 5, 7, 9],\n",
    "    'min_samples_split': [2, 5, 10],\n",
    "    'min_samples_leaf': [1, 2, 4],\n",
    "    'criterion': ['gini', 'entropy']\n",
    "}"
   ]
  },
  {
   "cell_type": "code",
   "execution_count": 38,
   "id": "cf59b7fa",
   "metadata": {},
   "outputs": [
    {
     "data": {
      "text/plain": [
       "GridSearchCV(cv=10, estimator=DecisionTreeClassifier(), n_jobs=-1,\n",
       "             param_grid={'criterion': ['gini', 'entropy'],\n",
       "                         'max_depth': [3, 5, 7, 9],\n",
       "                         'min_samples_leaf': [1, 2, 4],\n",
       "                         'min_samples_split': [2, 5, 10]})"
      ]
     },
     "execution_count": 38,
     "metadata": {},
     "output_type": "execute_result"
    }
   ],
   "source": [
    "grid_search = GridSearchCV(model, param_grid, cv=10, n_jobs=-1)\n",
    "grid_search.fit(xtrains, ytrain)"
   ]
  },
  {
   "cell_type": "code",
   "execution_count": 39,
   "id": "1e91ea19",
   "metadata": {},
   "outputs": [
    {
     "data": {
      "text/plain": [
       "{'criterion': 'entropy',\n",
       " 'max_depth': 7,\n",
       " 'min_samples_leaf': 1,\n",
       " 'min_samples_split': 2}"
      ]
     },
     "execution_count": 39,
     "metadata": {},
     "output_type": "execute_result"
    }
   ],
   "source": [
    "grid_search.best_params_"
   ]
  },
  {
   "cell_type": "code",
   "execution_count": 40,
   "id": "74f678d2",
   "metadata": {},
   "outputs": [
    {
     "data": {
      "text/plain": [
       "DecisionTreeClassifier(criterion='entropy', max_depth=7)"
      ]
     },
     "execution_count": 40,
     "metadata": {},
     "output_type": "execute_result"
    }
   ],
   "source": [
    "grid_search.best_estimator_"
   ]
  },
  {
   "cell_type": "code",
   "execution_count": 41,
   "id": "e8f2ed86",
   "metadata": {},
   "outputs": [],
   "source": [
    "dt = grid_search.best_estimator_\n",
    "dt.fit(xtrains,ytrain)\n",
    "ypred = dt.predict(xtests)"
   ]
  },
  {
   "cell_type": "code",
   "execution_count": 42,
   "id": "02246f78",
   "metadata": {},
   "outputs": [
    {
     "name": "stdout",
     "output_type": "stream",
     "text": [
      "Accuracy:- 0.8827977315689981\n",
      " ROC:- 0.8827977315689981\n",
      "\n",
      " [[1364  223]\n",
      " [ 149 1438]]\n",
      "               precision    recall  f1-score   support\n",
      "\n",
      "         0.0       0.90      0.86      0.88      1587\n",
      "         1.0       0.87      0.91      0.89      1587\n",
      "\n",
      "    accuracy                           0.88      3174\n",
      "   macro avg       0.88      0.88      0.88      3174\n",
      "weighted avg       0.88      0.88      0.88      3174\n",
      "\n",
      "Training Accuracy:- 0.9003241491085899\n",
      " Testing Accuracy:- 0.8827977315689981\n"
     ]
    }
   ],
   "source": [
    "ypred = dt.predict(xtests)\n",
    "\n",
    "ac = accuracy_score(ytest,ypred)\n",
    "ra = roc_auc_score(ytest,ypred)\n",
    "cm = confusion_matrix(ytest,ypred)\n",
    "cr = classification_report(ytest,ypred)\n",
    "print(f\"Accuracy:- {ac}\\n ROC:- {ra}\\n\\n {cm}\\n {cr}\")\n",
    "\n",
    "train = dt.score(xtrains,ytrain)\n",
    "test = dt.score(xtests,ytest)\n",
    "print(f\"Training Accuracy:- {train}\\n Testing Accuracy:- {test}\")"
   ]
  },
  {
   "cell_type": "code",
   "execution_count": 43,
   "id": "ec9b5c62",
   "metadata": {
    "scrolled": true
   },
   "outputs": [
    {
     "name": "stdout",
     "output_type": "stream",
     "text": [
      "Confusion Matrix:- \n"
     ]
    },
    {
     "data": {
      "image/png": "[encoded data removed]",
      "text/plain": [
       "<Figure size 432x288 with 2 Axes>"
      ]
     },
     "metadata": {
      "needs_background": "light"
     },
     "output_type": "display_data"
    }
   ],
   "source": [
    "print(\"Confusion Matrix:- \")\n",
    "plt.figure(figsize=(6,4))\n",
    "sns.heatmap(confusion_matrix(ytest,ypred),annot=True,cmap=\"Greens\",fmt=\"d\")\n",
    "plt.show()"
   ]
  },
  {
   "cell_type": "markdown",
   "id": "112bdbe0",
   "metadata": {},
   "source": [
    "# Conclusion"
   ]
  },
  {
   "cell_type": "markdown",
   "id": "971eb4d7",
   "metadata": {},
   "source": [
    "#### SVM Model:-"
   ]
  },
  {
   "cell_type": "code",
   "execution_count": 45,
   "id": "dda0c6cd",
   "metadata": {},
   "outputs": [],
   "source": [
    "#Accuracy:- 0.8913043478260869\n",
    "#ROC:- 0.891304347826087\n",
    "\n",
    "#Conclusion Matrix:- \n",
    "# [[1344  243]\n",
    "# [ 102 1485]]\n",
    " \n",
    "#Classification Report:-\n",
    "                \n",
    "#                precision    recall  f1-score   support\n",
    "\n",
    "#         0.0       0.93      0.85      0.89      1587\n",
    "#         1.0       0.86      0.94      0.90      1587\n",
    "\n",
    "#     accuracy                           0.89      3174\n",
    "#   #macro avg       0.89      0.89      0.89      3174\n",
    "#weighted avg       0.89      0.89      0.89      3174\n",
    "\n",
    "#Training Accuracy:- 0.9122096164235548\n",
    "# Testing Accuracy:- 0.8913043478260869"
   ]
  },
  {
   "cell_type": "markdown",
   "id": "a24c1f3b",
   "metadata": {},
   "source": [
    "#### Logistic Regression Model:"
   ]
  },
  {
   "cell_type": "code",
   "execution_count": 46,
   "id": "4c279144",
   "metadata": {},
   "outputs": [],
   "source": [
    "#Accuracy:- 0.7763074984247007\n",
    "#ROC:- 0.7763074984247007\n",
    "\n",
    "#Conclusion Matrix:\n",
    "# [[1254  333]\n",
    "# [ 377 1210]]\n",
    " \n",
    "\n",
    "#Classification Report:-\n",
    "#               precision    recall  f1-score   support\n",
    "\n",
    "#         0.0       0.77      0.79      0.78      1587\n",
    "#         1.0       0.78      0.76      0.77      1587\n",
    "\n",
    "#    accuracy                           0.78      3174\n",
    "#   macro avg       0.78      0.78      0.78      3174\n",
    "#weighted avg       0.78      0.78      0.78      3174\n",
    "\n",
    "#Training Accuracy:- 0.7703943814154511\n",
    "# Testing Accuracy:- 0.7763074984247007"
   ]
  },
  {
   "cell_type": "markdown",
   "id": "504d3982",
   "metadata": {},
   "source": [
    "#### KNN Model:-"
   ]
  },
  {
   "cell_type": "code",
   "execution_count": 47,
   "id": "c86bf869",
   "metadata": {},
   "outputs": [],
   "source": [
    "#Accuracy:- 0.8758664146187776\n",
    "# ROC:- 0.8758664146187776\n",
    "\n",
    "#Confusion Matrix:-\n",
    "# [[1381  206]\n",
    "# [ 188 1399]]\n",
    " \n",
    "#Classification Report:- \n",
    "#               precision    recall  f1-score   support\n",
    "\n",
    "#         0.0       0.88      0.87      0.88      1587\n",
    "#         1.0       0.87      0.88      0.88      1587\n",
    "\n",
    "#    accuracy                           0.88      3174\n",
    "#   macro avg       0.88      0.88      0.88      3174\n",
    "#weighted avg       0.88      0.88      0.88      3174\n",
    "\n",
    "#Training Accuracy:- 0.87817396002161\n",
    "# Testing Accuracy:- 0.8758664146187776"
   ]
  },
  {
   "cell_type": "markdown",
   "id": "55c3304f",
   "metadata": {},
   "source": [
    "#### Decision Tree Model:-"
   ]
  },
  {
   "cell_type": "code",
   "execution_count": 48,
   "id": "4acd7a85",
   "metadata": {},
   "outputs": [],
   "source": [
    "#Accuracy:- 0.8827977315689981\n",
    "# ROC:- 0.8827977315689981\n",
    "\n",
    "#Confusion Matrix:-\n",
    "# [[1364  223]\n",
    "# [ 149 1438]]\n",
    " \n",
    "#Classification Report:- \n",
    "#               precision    recall  f1-score   support\n",
    "\n",
    "#         0.0       0.90      0.86      0.88      1587\n",
    "#         1.0       0.87      0.91      0.89      1587\n",
    "\n",
    "#    accuracy                           0.88      3174\n",
    "#   macro avg       0.88      0.88      0.88      3174\n",
    "#weighted avg       0.88      0.88      0.88      3174\n",
    "\n",
    "#Training Accuracy:- 0.9003241491085899\n",
    "# Testing Accuracy:- 0.8827977315689981"
   ]
  }
 ],
 "metadata": {
  "kernelspec": {
   "display_name": "Python 3 (ipykernel)",
   "language": "python",
   "name": "python3"
  },
  "language_info": {
   "codemirror_mode": {
    "name": "ipython",
    "version": 3
   },
   "file_extension": ".py",
   "mimetype": "text/x-python",
   "name": "python",
   "nbconvert_exporter": "python",
   "pygments_lexer": "ipython3",
   "version": "3.9.12"
  }
 },
 "nbformat": 4,
 "nbformat_minor": 5
}
