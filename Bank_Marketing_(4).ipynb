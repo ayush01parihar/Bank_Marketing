{
 "cells": [
  {
   "cell_type": "code",
   "execution_count": 1,
   "id": "0c622512",
   "metadata": {},
   "outputs": [],
   "source": [
    "#-In this project the main objective is to predict has the client subscribed a term deposit.\n",
    "\n",
    "#-Two functions were created select_model and hyper_parameter_tuning in order to avoid repetation of code.\n",
    "\n",
    "#-To deal with the Imbalance Dataset UnderSampling with Centroid method and SMOTEENN was used and the \n",
    "#results were compared to find best method for the given dataset.\n",
    "\n",
    "#-Libraries such as Numpy, Pandas, Seaborn, Matplotlib,etc were used.\n",
    "\n",
    "#-OrdinalEncoder was used for encoding and the features were scaled using StandardScaler.\n",
    "\n",
    "# Note:- Conclusion is present at the end."
   ]
  },
  {
   "cell_type": "markdown",
   "id": "51e1c610",
   "metadata": {},
   "source": [
    "<img src=\"https://dcbuttarkashi.com/wp-content/uploads/2020/05/FD1.jpg\">"
   ]
  },
  {
   "cell_type": "markdown",
   "id": "a073a7f5",
   "metadata": {},
   "source": [
    "### Information about the Dataset:"
   ]
  },
  {
   "cell_type": "code",
   "execution_count": 2,
   "id": "c197a944",
   "metadata": {},
   "outputs": [],
   "source": [
    "#DataSet Link:- http://archive.ics.uci.edu/ml/datasets/Bank+Marketing#\n",
    "\n",
    "   #The data is related with direct marketing campaigns of a Portuguese banking institution. \n",
    "   #The marketing campaigns were based on phone calls. Often, more than one contact to the same client was required, \n",
    "   #in order to access if the product (bank term deposit) would be (or not) subscribed. \n",
    "   #There are two datasets: \n",
    "   #bank-full.csv with all examples, ordered by date (from May 2008 to November 2010).\n",
    "\n",
    "   #The classification goal is to predict if the client will subscribe a term deposit (variable y).\n",
    "   \n",
    "   \n",
    "   #  Input variables:\n",
    "   #   bank client data:\n",
    "   #1 - age (numeric)\n",
    "   #2 - job : type of job (categorical: \"admin.\",\"unknown\",\"unemployed\",\"management\",\"housemaid\",\"entrepreneur\",\"student\",\n",
    "   #          \"blue-collar\",\"self-employed\",\"retired\",\"technician\",\"services\") \n",
    "   #3 - marital : marital status (categorical: \"married\",\"divorced\",\"single\"; note: \"divorced\" means divorced or widowed)\n",
    "   #4 - education (categorical: \"unknown\",\"secondary\",\"primary\",\"tertiary\")\n",
    "   #5 - default: has credit in default? (binary: \"yes\",\"no\")\n",
    "   #6 - balance: average yearly balance, in euros (numeric) \n",
    "   #7 - housing: has housing loan? (binary: \"yes\",\"no\")\n",
    "   #8 - loan: has personal loan? (binary: \"yes\",\"no\")\n",
    "   \n",
    "   #related with the last contact of the current campaign:\n",
    "   #9 - contact: contact communication type (categorical: \"unknown\",\"telephone\",\"cellular\") \n",
    "  #10 - day: last contact day of the month (numeric)\n",
    "  #11 - month: last contact month of year (categorical: \"jan\", \"feb\", \"mar\", ..., \"nov\", \"dec\")\n",
    "  #12 - duration: last contact duration, in seconds (numeric)\n",
    "   # other attributes:\n",
    "  #13 - campaign: number of contacts performed during this campaign and for this client (numeric, includes last contact)\n",
    "  #14 - pdays: number of days that passed by after the client was last contacted from a previous campaign \n",
    "    #(numeric, -1 means client was not previously contacted)\n",
    "  #15 - previous: number of contacts performed before this campaign and for this client (numeric)\n",
    "  #16 - poutcome: outcome of the previous marketing campaign (categorical: \"unknown\",\"other\",\"failure\",\"success\")\n",
    "\n",
    "  #Output variable (desired target):\n",
    "  #17 - y - has the client subscribed a term deposit? (binary: \"yes\",\"no\")   "
   ]
  },
  {
   "cell_type": "code",
   "execution_count": 3,
   "id": "de98ce5d",
   "metadata": {},
   "outputs": [],
   "source": [
    "#importing necessary libraries\n",
    "import numpy as np\n",
    "import pandas as pd\n",
    "import matplotlib.pyplot as plt\n",
    "import seaborn as sns\n",
    "import warnings\n",
    "warnings.filterwarnings(\"ignore\")"
   ]
  },
  {
   "cell_type": "code",
   "execution_count": 4,
   "id": "541b1c00",
   "metadata": {},
   "outputs": [
    {
     "data": {
      "text/html": [
       "<div>\n",
       "<style scoped>\n",
       "    .dataframe tbody tr th:only-of-type {\n",
       "        vertical-align: middle;\n",
       "    }\n",
       "\n",
       "    .dataframe tbody tr th {\n",
       "        vertical-align: top;\n",
       "    }\n",
       "\n",
       "    .dataframe thead th {\n",
       "        text-align: right;\n",
       "    }\n",
       "</style>\n",
       "<table border=\"1\" class=\"dataframe\">\n",
       "  <thead>\n",
       "    <tr style=\"text-align: right;\">\n",
       "      <th></th>\n",
       "      <th>age</th>\n",
       "      <th>job</th>\n",
       "      <th>marital</th>\n",
       "      <th>education</th>\n",
       "      <th>default</th>\n",
       "      <th>balance</th>\n",
       "      <th>housing</th>\n",
       "      <th>loan</th>\n",
       "      <th>contact</th>\n",
       "      <th>day</th>\n",
       "      <th>month</th>\n",
       "      <th>duration</th>\n",
       "      <th>campaign</th>\n",
       "      <th>pdays</th>\n",
       "      <th>previous</th>\n",
       "      <th>poutcome</th>\n",
       "      <th>y</th>\n",
       "    </tr>\n",
       "  </thead>\n",
       "  <tbody>\n",
       "    <tr>\n",
       "      <th>0</th>\n",
       "      <td>58</td>\n",
       "      <td>management</td>\n",
       "      <td>married</td>\n",
       "      <td>tertiary</td>\n",
       "      <td>no</td>\n",
       "      <td>2143</td>\n",
       "      <td>yes</td>\n",
       "      <td>no</td>\n",
       "      <td>unknown</td>\n",
       "      <td>5</td>\n",
       "      <td>may</td>\n",
       "      <td>261</td>\n",
       "      <td>1</td>\n",
       "      <td>-1</td>\n",
       "      <td>0</td>\n",
       "      <td>unknown</td>\n",
       "      <td>no</td>\n",
       "    </tr>\n",
       "    <tr>\n",
       "      <th>1</th>\n",
       "      <td>44</td>\n",
       "      <td>technician</td>\n",
       "      <td>single</td>\n",
       "      <td>secondary</td>\n",
       "      <td>no</td>\n",
       "      <td>29</td>\n",
       "      <td>yes</td>\n",
       "      <td>no</td>\n",
       "      <td>unknown</td>\n",
       "      <td>5</td>\n",
       "      <td>may</td>\n",
       "      <td>151</td>\n",
       "      <td>1</td>\n",
       "      <td>-1</td>\n",
       "      <td>0</td>\n",
       "      <td>unknown</td>\n",
       "      <td>no</td>\n",
       "    </tr>\n",
       "    <tr>\n",
       "      <th>2</th>\n",
       "      <td>33</td>\n",
       "      <td>entrepreneur</td>\n",
       "      <td>married</td>\n",
       "      <td>secondary</td>\n",
       "      <td>no</td>\n",
       "      <td>2</td>\n",
       "      <td>yes</td>\n",
       "      <td>yes</td>\n",
       "      <td>unknown</td>\n",
       "      <td>5</td>\n",
       "      <td>may</td>\n",
       "      <td>76</td>\n",
       "      <td>1</td>\n",
       "      <td>-1</td>\n",
       "      <td>0</td>\n",
       "      <td>unknown</td>\n",
       "      <td>no</td>\n",
       "    </tr>\n",
       "    <tr>\n",
       "      <th>3</th>\n",
       "      <td>47</td>\n",
       "      <td>blue-collar</td>\n",
       "      <td>married</td>\n",
       "      <td>unknown</td>\n",
       "      <td>no</td>\n",
       "      <td>1506</td>\n",
       "      <td>yes</td>\n",
       "      <td>no</td>\n",
       "      <td>unknown</td>\n",
       "      <td>5</td>\n",
       "      <td>may</td>\n",
       "      <td>92</td>\n",
       "      <td>1</td>\n",
       "      <td>-1</td>\n",
       "      <td>0</td>\n",
       "      <td>unknown</td>\n",
       "      <td>no</td>\n",
       "    </tr>\n",
       "    <tr>\n",
       "      <th>4</th>\n",
       "      <td>33</td>\n",
       "      <td>unknown</td>\n",
       "      <td>single</td>\n",
       "      <td>unknown</td>\n",
       "      <td>no</td>\n",
       "      <td>1</td>\n",
       "      <td>no</td>\n",
       "      <td>no</td>\n",
       "      <td>unknown</td>\n",
       "      <td>5</td>\n",
       "      <td>may</td>\n",
       "      <td>198</td>\n",
       "      <td>1</td>\n",
       "      <td>-1</td>\n",
       "      <td>0</td>\n",
       "      <td>unknown</td>\n",
       "      <td>no</td>\n",
       "    </tr>\n",
       "  </tbody>\n",
       "</table>\n",
       "</div>"
      ],
      "text/plain": [
       "   age           job  marital  education default  balance housing loan  \\\n",
       "0   58    management  married   tertiary      no     2143     yes   no   \n",
       "1   44    technician   single  secondary      no       29     yes   no   \n",
       "2   33  entrepreneur  married  secondary      no        2     yes  yes   \n",
       "3   47   blue-collar  married    unknown      no     1506     yes   no   \n",
       "4   33       unknown   single    unknown      no        1      no   no   \n",
       "\n",
       "   contact  day month  duration  campaign  pdays  previous poutcome   y  \n",
       "0  unknown    5   may       261         1     -1         0  unknown  no  \n",
       "1  unknown    5   may       151         1     -1         0  unknown  no  \n",
       "2  unknown    5   may        76         1     -1         0  unknown  no  \n",
       "3  unknown    5   may        92         1     -1         0  unknown  no  \n",
       "4  unknown    5   may       198         1     -1         0  unknown  no  "
      ]
     },
     "execution_count": 4,
     "metadata": {},
     "output_type": "execute_result"
    }
   ],
   "source": [
    "#importing data set\n",
    "df = pd.read_csv(\"bank-full.csv\",sep=\";\")\n",
    "df.head()"
   ]
  },
  {
   "cell_type": "code",
   "execution_count": 5,
   "id": "f34dc81f",
   "metadata": {},
   "outputs": [
    {
     "data": {
      "text/plain": [
       "(45211, 17)"
      ]
     },
     "execution_count": 5,
     "metadata": {},
     "output_type": "execute_result"
    }
   ],
   "source": [
    "df.shape #checking (rows,columns)"
   ]
  },
  {
   "cell_type": "code",
   "execution_count": 6,
   "id": "6aaad02d",
   "metadata": {},
   "outputs": [
    {
     "name": "stdout",
     "output_type": "stream",
     "text": [
      "<class 'pandas.core.frame.DataFrame'>\n",
      "RangeIndex: 45211 entries, 0 to 45210\n",
      "Data columns (total 17 columns):\n",
      " #   Column     Non-Null Count  Dtype \n",
      "---  ------     --------------  ----- \n",
      " 0   age        45211 non-null  int64 \n",
      " 1   job        45211 non-null  object\n",
      " 2   marital    45211 non-null  object\n",
      " 3   education  45211 non-null  object\n",
      " 4   default    45211 non-null  object\n",
      " 5   balance    45211 non-null  int64 \n",
      " 6   housing    45211 non-null  object\n",
      " 7   loan       45211 non-null  object\n",
      " 8   contact    45211 non-null  object\n",
      " 9   day        45211 non-null  int64 \n",
      " 10  month      45211 non-null  object\n",
      " 11  duration   45211 non-null  int64 \n",
      " 12  campaign   45211 non-null  int64 \n",
      " 13  pdays      45211 non-null  int64 \n",
      " 14  previous   45211 non-null  int64 \n",
      " 15  poutcome   45211 non-null  object\n",
      " 16  y          45211 non-null  object\n",
      "dtypes: int64(7), object(10)\n",
      "memory usage: 5.9+ MB\n"
     ]
    }
   ],
   "source": [
    "df.info() #checking missing values"
   ]
  },
  {
   "cell_type": "code",
   "execution_count": 7,
   "id": "a38f6b76",
   "metadata": {},
   "outputs": [
    {
     "data": {
      "text/html": [
       "<div>\n",
       "<style scoped>\n",
       "    .dataframe tbody tr th:only-of-type {\n",
       "        vertical-align: middle;\n",
       "    }\n",
       "\n",
       "    .dataframe tbody tr th {\n",
       "        vertical-align: top;\n",
       "    }\n",
       "\n",
       "    .dataframe thead th {\n",
       "        text-align: right;\n",
       "    }\n",
       "</style>\n",
       "<table border=\"1\" class=\"dataframe\">\n",
       "  <thead>\n",
       "    <tr style=\"text-align: right;\">\n",
       "      <th></th>\n",
       "      <th>age</th>\n",
       "      <th>balance</th>\n",
       "      <th>day</th>\n",
       "      <th>duration</th>\n",
       "      <th>campaign</th>\n",
       "      <th>pdays</th>\n",
       "      <th>previous</th>\n",
       "    </tr>\n",
       "  </thead>\n",
       "  <tbody>\n",
       "    <tr>\n",
       "      <th>count</th>\n",
       "      <td>45211.000000</td>\n",
       "      <td>45211.000000</td>\n",
       "      <td>45211.000000</td>\n",
       "      <td>45211.000000</td>\n",
       "      <td>45211.000000</td>\n",
       "      <td>45211.000000</td>\n",
       "      <td>45211.000000</td>\n",
       "    </tr>\n",
       "    <tr>\n",
       "      <th>mean</th>\n",
       "      <td>40.936210</td>\n",
       "      <td>1362.272058</td>\n",
       "      <td>15.806419</td>\n",
       "      <td>258.163080</td>\n",
       "      <td>2.763841</td>\n",
       "      <td>40.197828</td>\n",
       "      <td>0.580323</td>\n",
       "    </tr>\n",
       "    <tr>\n",
       "      <th>std</th>\n",
       "      <td>10.618762</td>\n",
       "      <td>3044.765829</td>\n",
       "      <td>8.322476</td>\n",
       "      <td>257.527812</td>\n",
       "      <td>3.098021</td>\n",
       "      <td>100.128746</td>\n",
       "      <td>2.303441</td>\n",
       "    </tr>\n",
       "    <tr>\n",
       "      <th>min</th>\n",
       "      <td>18.000000</td>\n",
       "      <td>-8019.000000</td>\n",
       "      <td>1.000000</td>\n",
       "      <td>0.000000</td>\n",
       "      <td>1.000000</td>\n",
       "      <td>-1.000000</td>\n",
       "      <td>0.000000</td>\n",
       "    </tr>\n",
       "    <tr>\n",
       "      <th>25%</th>\n",
       "      <td>33.000000</td>\n",
       "      <td>72.000000</td>\n",
       "      <td>8.000000</td>\n",
       "      <td>103.000000</td>\n",
       "      <td>1.000000</td>\n",
       "      <td>-1.000000</td>\n",
       "      <td>0.000000</td>\n",
       "    </tr>\n",
       "    <tr>\n",
       "      <th>50%</th>\n",
       "      <td>39.000000</td>\n",
       "      <td>448.000000</td>\n",
       "      <td>16.000000</td>\n",
       "      <td>180.000000</td>\n",
       "      <td>2.000000</td>\n",
       "      <td>-1.000000</td>\n",
       "      <td>0.000000</td>\n",
       "    </tr>\n",
       "    <tr>\n",
       "      <th>75%</th>\n",
       "      <td>48.000000</td>\n",
       "      <td>1428.000000</td>\n",
       "      <td>21.000000</td>\n",
       "      <td>319.000000</td>\n",
       "      <td>3.000000</td>\n",
       "      <td>-1.000000</td>\n",
       "      <td>0.000000</td>\n",
       "    </tr>\n",
       "    <tr>\n",
       "      <th>max</th>\n",
       "      <td>95.000000</td>\n",
       "      <td>102127.000000</td>\n",
       "      <td>31.000000</td>\n",
       "      <td>4918.000000</td>\n",
       "      <td>63.000000</td>\n",
       "      <td>871.000000</td>\n",
       "      <td>275.000000</td>\n",
       "    </tr>\n",
       "  </tbody>\n",
       "</table>\n",
       "</div>"
      ],
      "text/plain": [
       "                age        balance           day      duration      campaign  \\\n",
       "count  45211.000000   45211.000000  45211.000000  45211.000000  45211.000000   \n",
       "mean      40.936210    1362.272058     15.806419    258.163080      2.763841   \n",
       "std       10.618762    3044.765829      8.322476    257.527812      3.098021   \n",
       "min       18.000000   -8019.000000      1.000000      0.000000      1.000000   \n",
       "25%       33.000000      72.000000      8.000000    103.000000      1.000000   \n",
       "50%       39.000000     448.000000     16.000000    180.000000      2.000000   \n",
       "75%       48.000000    1428.000000     21.000000    319.000000      3.000000   \n",
       "max       95.000000  102127.000000     31.000000   4918.000000     63.000000   \n",
       "\n",
       "              pdays      previous  \n",
       "count  45211.000000  45211.000000  \n",
       "mean      40.197828      0.580323  \n",
       "std      100.128746      2.303441  \n",
       "min       -1.000000      0.000000  \n",
       "25%       -1.000000      0.000000  \n",
       "50%       -1.000000      0.000000  \n",
       "75%       -1.000000      0.000000  \n",
       "max      871.000000    275.000000  "
      ]
     },
     "execution_count": 7,
     "metadata": {},
     "output_type": "execute_result"
    }
   ],
   "source": [
    "df.describe()"
   ]
  },
  {
   "cell_type": "code",
   "execution_count": 8,
   "id": "2cf9c56a",
   "metadata": {},
   "outputs": [
    {
     "data": {
      "text/plain": [
       "no     39922\n",
       "yes     5289\n",
       "Name: y, dtype: int64"
      ]
     },
     "execution_count": 8,
     "metadata": {},
     "output_type": "execute_result"
    }
   ],
   "source": [
    "# checking imbalance\n",
    "df[\"y\"].value_counts()"
   ]
  },
  {
   "cell_type": "code",
   "execution_count": 9,
   "id": "858a76ad",
   "metadata": {},
   "outputs": [],
   "source": [
    "from sklearn.linear_model import LogisticRegression\n",
    "from sklearn.linear_model import Ridge,Lasso\n",
    "from sklearn.neighbors import KNeighborsClassifier\n",
    "from sklearn.svm import SVC\n",
    "from sklearn.tree import DecisionTreeClassifier\n",
    "from sklearn.model_selection import GridSearchCV\n",
    "from sklearn.model_selection import train_test_split\n",
    "from sklearn.preprocessing import OrdinalEncoder\n",
    "from sklearn.preprocessing import StandardScaler\n",
    "\n",
    "from sklearn.metrics import accuracy_score,confusion_matrix,classification_report,roc_auc_score\n",
    "\n",
    "from sklearn.ensemble import VotingClassifier\n",
    "from sklearn.ensemble import BaggingClassifier"
   ]
  },
  {
   "cell_type": "markdown",
   "id": "1dccef2d",
   "metadata": {},
   "source": [
    "### Encoding"
   ]
  },
  {
   "cell_type": "code",
   "execution_count": 10,
   "id": "71db646b",
   "metadata": {},
   "outputs": [
    {
     "data": {
      "text/html": [
       "<div>\n",
       "<style scoped>\n",
       "    .dataframe tbody tr th:only-of-type {\n",
       "        vertical-align: middle;\n",
       "    }\n",
       "\n",
       "    .dataframe tbody tr th {\n",
       "        vertical-align: top;\n",
       "    }\n",
       "\n",
       "    .dataframe thead th {\n",
       "        text-align: right;\n",
       "    }\n",
       "</style>\n",
       "<table border=\"1\" class=\"dataframe\">\n",
       "  <thead>\n",
       "    <tr style=\"text-align: right;\">\n",
       "      <th></th>\n",
       "      <th>age</th>\n",
       "      <th>job</th>\n",
       "      <th>marital</th>\n",
       "      <th>education</th>\n",
       "      <th>default</th>\n",
       "      <th>balance</th>\n",
       "      <th>housing</th>\n",
       "      <th>loan</th>\n",
       "      <th>contact</th>\n",
       "      <th>day</th>\n",
       "      <th>month</th>\n",
       "      <th>duration</th>\n",
       "      <th>campaign</th>\n",
       "      <th>pdays</th>\n",
       "      <th>previous</th>\n",
       "      <th>poutcome</th>\n",
       "      <th>y</th>\n",
       "    </tr>\n",
       "  </thead>\n",
       "  <tbody>\n",
       "    <tr>\n",
       "      <th>0</th>\n",
       "      <td>58</td>\n",
       "      <td>4.0</td>\n",
       "      <td>1.0</td>\n",
       "      <td>2.0</td>\n",
       "      <td>0.0</td>\n",
       "      <td>2143</td>\n",
       "      <td>1.0</td>\n",
       "      <td>0.0</td>\n",
       "      <td>2.0</td>\n",
       "      <td>5</td>\n",
       "      <td>8.0</td>\n",
       "      <td>261</td>\n",
       "      <td>1</td>\n",
       "      <td>-1</td>\n",
       "      <td>0</td>\n",
       "      <td>3.0</td>\n",
       "      <td>0.0</td>\n",
       "    </tr>\n",
       "    <tr>\n",
       "      <th>1</th>\n",
       "      <td>44</td>\n",
       "      <td>9.0</td>\n",
       "      <td>2.0</td>\n",
       "      <td>1.0</td>\n",
       "      <td>0.0</td>\n",
       "      <td>29</td>\n",
       "      <td>1.0</td>\n",
       "      <td>0.0</td>\n",
       "      <td>2.0</td>\n",
       "      <td>5</td>\n",
       "      <td>8.0</td>\n",
       "      <td>151</td>\n",
       "      <td>1</td>\n",
       "      <td>-1</td>\n",
       "      <td>0</td>\n",
       "      <td>3.0</td>\n",
       "      <td>0.0</td>\n",
       "    </tr>\n",
       "    <tr>\n",
       "      <th>2</th>\n",
       "      <td>33</td>\n",
       "      <td>2.0</td>\n",
       "      <td>1.0</td>\n",
       "      <td>1.0</td>\n",
       "      <td>0.0</td>\n",
       "      <td>2</td>\n",
       "      <td>1.0</td>\n",
       "      <td>1.0</td>\n",
       "      <td>2.0</td>\n",
       "      <td>5</td>\n",
       "      <td>8.0</td>\n",
       "      <td>76</td>\n",
       "      <td>1</td>\n",
       "      <td>-1</td>\n",
       "      <td>0</td>\n",
       "      <td>3.0</td>\n",
       "      <td>0.0</td>\n",
       "    </tr>\n",
       "  </tbody>\n",
       "</table>\n",
       "</div>"
      ],
      "text/plain": [
       "   age  job  marital  education  default  balance  housing  loan  contact  \\\n",
       "0   58  4.0      1.0        2.0      0.0     2143      1.0   0.0      2.0   \n",
       "1   44  9.0      2.0        1.0      0.0       29      1.0   0.0      2.0   \n",
       "2   33  2.0      1.0        1.0      0.0        2      1.0   1.0      2.0   \n",
       "\n",
       "   day  month  duration  campaign  pdays  previous  poutcome    y  \n",
       "0    5    8.0       261         1     -1         0       3.0  0.0  \n",
       "1    5    8.0       151         1     -1         0       3.0  0.0  \n",
       "2    5    8.0        76         1     -1         0       3.0  0.0  "
      ]
     },
     "execution_count": 10,
     "metadata": {},
     "output_type": "execute_result"
    }
   ],
   "source": [
    "# Encoding\n",
    "catcol = df.select_dtypes(object).columns\n",
    "oe = OrdinalEncoder()\n",
    "df[catcol] = oe.fit_transform(df[catcol])\n",
    "df.head(3)"
   ]
  },
  {
   "cell_type": "code",
   "execution_count": 11,
   "id": "632879a5",
   "metadata": {},
   "outputs": [],
   "source": [
    "# Creating Function for models\n",
    "\n",
    "def model_select(model_name):\n",
    "    \n",
    "    model_name.fit(X_train,y_train)\n",
    "    y_pred = model_name.predict(X_test)\n",
    "    \n",
    "    train = model_name.score(X_train,y_train)\n",
    "    test = model_name.score(X_test,y_test)\n",
    "    \n",
    "    ac = accuracy_score(y_test,y_pred)\n",
    "    cm = confusion_matrix(y_test,y_pred)\n",
    "    cr = classification_report(y_test,y_pred)\n",
    "    roc = roc_auc_score(y_test,y_pred)\n",
    "    \n",
    "    print(f\"Training accuracy:-{train}\\nTesting accuracy:-{test}\")\n",
    "    print(f\"Accuracy score:-{ac}\\nroc_auc_score:-{roc}\\n\\nClassification report:-\\n{cr}\\n\\nConfusion Matrix:-\\n\")\n",
    "    \n",
    "    plt.figure(figsize=(3,2))\n",
    "    sns.heatmap(cm,annot=True,cmap=\"Greens\",fmt=\"d\")\n",
    "    plt.show()"
   ]
  },
  {
   "cell_type": "code",
   "execution_count": 12,
   "id": "a337a94a",
   "metadata": {},
   "outputs": [],
   "source": [
    "# Function for HyperParameter Tuning\n",
    "\n",
    "def hyper_parameter_tuning(model_name):\n",
    "    \n",
    "    if str(model_name) == \"LogisticRegression()\":    \n",
    "        l2 = Ridge(alpha=10)\n",
    "        model_select(l2)\n",
    "        \n",
    "        \n",
    "    if str(model_name) == \"KNeighborsClassifier()\":\n",
    "        for i in range(1,10):\n",
    "            knn = KNeighborsClassifier(n_neighbors=i)\n",
    "            knn.fit(X_train,y_train)\n",
    "            train = knn.score(X_train,y_train)\n",
    "            test = knn.score(X_test,y_test)\n",
    "            print(f\"{i} {train} {test} {train-test}\")\n",
    "            \n",
    "    if str(model_name) == \"BaggingClassifier(KNeighborsClassifier())\":\n",
    "        for i in range(1,10):\n",
    "            knn = BaggingClassifier(KNeighborsClassifier(n_neighbors=i))\n",
    "            knn.fit(X_train,y_train)\n",
    "            train = knn.score(X_train,y_train)\n",
    "            test = knn.score(X_test,y_test)\n",
    "            print(f\"{i} {train} {test} {train-test}\") \n",
    "            \n",
    "            \n",
    "    if str(model_name) == \"SVC()\":\n",
    "        parameter = {\"C\":[0.1,1,10],\"gamma\":[0.1,0.01,0.001],\"kernel\":[\"rbf\",\"poly\"]}\n",
    "        grid = GridSearchCV(SVC(), parameter, verbose=2,n_jobs=-1 )\n",
    "        grid.fit(X_train,y_train)\n",
    "        print(grid.best_estimator_)\n",
    "        # applying the best parameters \n",
    "        svm =grid.best_estimator_\n",
    "        model_select(svm)\n",
    "\n",
    "    if str(model_name) == \"BaggingClassifier(SVC())\":\n",
    "        parameter = {\"C\":[0.1,1,10],\"gamma\":[0.1,0.01,0.001],\"kernel\":[\"rbf\",\"poly\"]}\n",
    "        grid = GridSearchCV(BaggingClassifier(SVC()), parameter, verbose=2,n_jobs=-1 )\n",
    "        grid.fit(X_train,y_train)\n",
    "        print(grid.best_estimator_)\n",
    "        # applying the best parameters \n",
    "        svm =grid.best_estimator_\n",
    "        model_select(svm)        \n",
    "        \n",
    "    if model_name == DecisionTreeClassifier():\n",
    "        param_grid = {\n",
    "        'max_depth': [1,2,3,4,5,6,7,8,9],\n",
    "        'min_samples_split': [1,2,3,4,5],\n",
    "        'min_samples_leaf': [1, 2, 3,4],\n",
    "        'criterion': ['gini', 'entropy']\n",
    "        }\n",
    "        grid = GridSearchCV(DecisionTreeClassifier(), parameter, verbose=2,n_jobs=-1)\n",
    "        grid.fit(X_train,y_train)\n",
    "        print(grid.best_estimator_)\n",
    "        # applying the best parameters \n",
    "        svm =grid.best_estimator_\n",
    "        model_select(svm)"
   ]
  },
  {
   "cell_type": "markdown",
   "id": "264f8ba5",
   "metadata": {},
   "source": [
    "# UnderSampling Centroid Method"
   ]
  },
  {
   "cell_type": "code",
   "execution_count": 13,
   "id": "55a3f504",
   "metadata": {},
   "outputs": [],
   "source": [
    "#Spliting feature and Target\n",
    "X = df.iloc[:,:-1]\n",
    "y = df.iloc[:,-1]"
   ]
  },
  {
   "cell_type": "code",
   "execution_count": 14,
   "id": "ab27ef8d",
   "metadata": {},
   "outputs": [],
   "source": [
    "from imblearn.under_sampling import ClusterCentroids\n",
    "cc = ClusterCentroids(random_state=42)\n",
    "X,y = cc.fit_resample(X,y)\n",
    "\n",
    "X_train,X_test,y_train,y_test = train_test_split(X,y,test_size=0.3,random_state=1)\n",
    "\n",
    "#scaling\n",
    "sc = StandardScaler()\n",
    "X_train = sc.fit_transform(X_train)\n",
    "X_test = sc.fit_transform(X_test)"
   ]
  },
  {
   "cell_type": "markdown",
   "id": "ae6cfcd1",
   "metadata": {},
   "source": [
    "### Checking accuracy through various machine learning models"
   ]
  },
  {
   "cell_type": "code",
   "execution_count": 15,
   "id": "f895e9b6",
   "metadata": {},
   "outputs": [
    {
     "name": "stdout",
     "output_type": "stream",
     "text": [
      "Training accuracy:-0.7689086980010805\n",
      "Testing accuracy:-0.7700063011972275\n",
      "Accuracy score:-0.7700063011972275\n",
      "roc_auc_score:-0.7698827896663024\n",
      "\n",
      "Classification report:-\n",
      "              precision    recall  f1-score   support\n",
      "\n",
      "         0.0       0.77      0.78      0.77      1606\n",
      "         1.0       0.77      0.76      0.77      1568\n",
      "\n",
      "    accuracy                           0.77      3174\n",
      "   macro avg       0.77      0.77      0.77      3174\n",
      "weighted avg       0.77      0.77      0.77      3174\n",
      "\n",
      "\n",
      "Confusion Matrix:-\n",
      "\n"
     ]
    },
    {
     "data": {
      "image/png": "[encoded data removed]",
      "text/plain": [
       "<Figure size 216x144 with 2 Axes>"
      ]
     },
     "metadata": {
      "needs_background": "light"
     },
     "output_type": "display_data"
    }
   ],
   "source": [
    "#LogisticRegression\n",
    "model_select(LogisticRegression())"
   ]
  },
  {
   "cell_type": "code",
   "execution_count": 16,
   "id": "25826b7d",
   "metadata": {},
   "outputs": [
    {
     "name": "stdout",
     "output_type": "stream",
     "text": [
      "Training accuracy:-0.9127498649378715\n",
      "Testing accuracy:-0.8868935097668557\n",
      "Accuracy score:-0.8868935097668557\n",
      "roc_auc_score:-0.8874167662083514\n",
      "\n",
      "Classification report:-\n",
      "              precision    recall  f1-score   support\n",
      "\n",
      "         0.0       0.93      0.84      0.88      1606\n",
      "         1.0       0.85      0.93      0.89      1568\n",
      "\n",
      "    accuracy                           0.89      3174\n",
      "   macro avg       0.89      0.89      0.89      3174\n",
      "weighted avg       0.89      0.89      0.89      3174\n",
      "\n",
      "\n",
      "Confusion Matrix:-\n",
      "\n"
     ]
    },
    {
     "data": {
      "image/png": "[encoded data removed]",
      "text/plain": [
       "<Figure size 216x144 with 2 Axes>"
      ]
     },
     "metadata": {
      "needs_background": "light"
     },
     "output_type": "display_data"
    }
   ],
   "source": [
    "# SVM\n",
    "model_select(SVC())"
   ]
  },
  {
   "cell_type": "code",
   "execution_count": 17,
   "id": "577761f9",
   "metadata": {},
   "outputs": [
    {
     "name": "stdout",
     "output_type": "stream",
     "text": [
      "Training accuracy:-1.0\n",
      "Testing accuracy:-0.8547574039067423\n",
      "Accuracy score:-0.8547574039067423\n",
      "roc_auc_score:-0.8545366387526367\n",
      "\n",
      "Classification report:-\n",
      "              precision    recall  f1-score   support\n",
      "\n",
      "         0.0       0.85      0.87      0.86      1606\n",
      "         1.0       0.87      0.84      0.85      1568\n",
      "\n",
      "    accuracy                           0.85      3174\n",
      "   macro avg       0.86      0.85      0.85      3174\n",
      "weighted avg       0.86      0.85      0.85      3174\n",
      "\n",
      "\n",
      "Confusion Matrix:-\n",
      "\n"
     ]
    },
    {
     "data": {
      "image/png": "[encoded data removed]",
      "text/plain": [
       "<Figure size 216x144 with 2 Axes>"
      ]
     },
     "metadata": {
      "needs_background": "light"
     },
     "output_type": "display_data"
    }
   ],
   "source": [
    "# DecisionTreeClassifier\n",
    "model_select(DecisionTreeClassifier())"
   ]
  },
  {
   "cell_type": "code",
   "execution_count": 18,
   "id": "56c3b245",
   "metadata": {},
   "outputs": [
    {
     "name": "stdout",
     "output_type": "stream",
     "text": [
      "Training accuracy:-0.9109940572663425\n",
      "Testing accuracy:-0.8667296786389413\n",
      "Accuracy score:-0.8667296786389413\n",
      "roc_auc_score:-0.866902972272346\n",
      "\n",
      "Classification report:-\n",
      "              precision    recall  f1-score   support\n",
      "\n",
      "         0.0       0.88      0.85      0.87      1606\n",
      "         1.0       0.85      0.88      0.87      1568\n",
      "\n",
      "    accuracy                           0.87      3174\n",
      "   macro avg       0.87      0.87      0.87      3174\n",
      "weighted avg       0.87      0.87      0.87      3174\n",
      "\n",
      "\n",
      "Confusion Matrix:-\n",
      "\n"
     ]
    },
    {
     "data": {
      "image/png": "[encoded data removed]",
      "text/plain": [
       "<Figure size 216x144 with 2 Axes>"
      ]
     },
     "metadata": {
      "needs_background": "light"
     },
     "output_type": "display_data"
    }
   ],
   "source": [
    "# KNeighborsClassifier\n",
    "model_select(KNeighborsClassifier())"
   ]
  },
  {
   "cell_type": "code",
   "execution_count": null,
   "id": "6b43bf89",
   "metadata": {},
   "outputs": [],
   "source": []
  },
  {
   "cell_type": "code",
   "execution_count": null,
   "id": "edd17e17",
   "metadata": {},
   "outputs": [],
   "source": []
  },
  {
   "cell_type": "markdown",
   "id": "68666019",
   "metadata": {},
   "source": [
    "# SMOTEENN (Mix of Under and Over sampling)"
   ]
  },
  {
   "cell_type": "code",
   "execution_count": 19,
   "id": "677aa44f",
   "metadata": {},
   "outputs": [],
   "source": [
    "#Spliting feature and Target\n",
    "X = df.iloc[:,:-1]\n",
    "y = df.iloc[:,-1]\n",
    "\n",
    "from imblearn.combine import SMOTEENN\n",
    "smoteenn = SMOTEENN()\n",
    "X,y = smoteenn.fit_resample(X,y)\n",
    "\n",
    "from sklearn.model_selection import train_test_split\n",
    "X_train,X_test,y_train,y_test = train_test_split(X,y,test_size=0.3,random_state=1)\n",
    "\n",
    "#scaling\n",
    "sc = StandardScaler()\n",
    "X_train = sc.fit_transform(X_train)\n",
    "X_test = sc.fit_transform(X_test)"
   ]
  },
  {
   "cell_type": "code",
   "execution_count": 20,
   "id": "b212f133",
   "metadata": {},
   "outputs": [
    {
     "name": "stdout",
     "output_type": "stream",
     "text": [
      "Training accuracy:-0.8744108049311095\n",
      "Testing accuracy:-0.8733079526226735\n",
      "Accuracy score:-0.8733079526226735\n",
      "roc_auc_score:-0.870983436734219\n",
      "\n",
      "Classification report:-\n",
      "              precision    recall  f1-score   support\n",
      "\n",
      "         0.0       0.87      0.85      0.86      8477\n",
      "         1.0       0.88      0.89      0.89     10435\n",
      "\n",
      "    accuracy                           0.87     18912\n",
      "   macro avg       0.87      0.87      0.87     18912\n",
      "weighted avg       0.87      0.87      0.87     18912\n",
      "\n",
      "\n",
      "Confusion Matrix:-\n",
      "\n"
     ]
    },
    {
     "data": {
      "image/png": "[encoded data removed]",
      "text/plain": [
       "<Figure size 216x144 with 2 Axes>"
      ]
     },
     "metadata": {
      "needs_background": "light"
     },
     "output_type": "display_data"
    }
   ],
   "source": [
    "#LogisticRegression\n",
    "model_select(LogisticRegression())"
   ]
  },
  {
   "cell_type": "code",
   "execution_count": 21,
   "id": "167551b2",
   "metadata": {},
   "outputs": [
    {
     "name": "stdout",
     "output_type": "stream",
     "text": [
      "Training accuracy:-0.9373866932559826\n",
      "Testing accuracy:-0.9308375634517766\n",
      "Accuracy score:-0.9308375634517766\n",
      "roc_auc_score:-0.9287047524915779\n",
      "\n",
      "Classification report:-\n",
      "              precision    recall  f1-score   support\n",
      "\n",
      "         0.0       0.94      0.91      0.92      8477\n",
      "         1.0       0.93      0.95      0.94     10435\n",
      "\n",
      "    accuracy                           0.93     18912\n",
      "   macro avg       0.93      0.93      0.93     18912\n",
      "weighted avg       0.93      0.93      0.93     18912\n",
      "\n",
      "\n",
      "Confusion Matrix:-\n",
      "\n"
     ]
    },
    {
     "data": {
      "image/png": "[encoded data removed]",
      "text/plain": [
       "<Figure size 216x144 with 2 Axes>"
      ]
     },
     "metadata": {
      "needs_background": "light"
     },
     "output_type": "display_data"
    }
   ],
   "source": [
    "# SVC\n",
    "model_select(SVC())"
   ]
  },
  {
   "cell_type": "code",
   "execution_count": 22,
   "id": "61cdf7d2",
   "metadata": {},
   "outputs": [
    {
     "name": "stdout",
     "output_type": "stream",
     "text": [
      "Training accuracy:-1.0\n",
      "Testing accuracy:-0.6091899323181049\n",
      "Accuracy score:-0.6091899323181049\n",
      "roc_auc_score:-0.5666122638901316\n",
      "\n",
      "Classification report:-\n",
      "              precision    recall  f1-score   support\n",
      "\n",
      "         0.0       0.85      0.16      0.26      8477\n",
      "         1.0       0.59      0.98      0.73     10435\n",
      "\n",
      "    accuracy                           0.61     18912\n",
      "   macro avg       0.72      0.57      0.50     18912\n",
      "weighted avg       0.71      0.61      0.52     18912\n",
      "\n",
      "\n",
      "Confusion Matrix:-\n",
      "\n"
     ]
    },
    {
     "data": {
      "image/png": "[encoded data removed]",
      "text/plain": [
       "<Figure size 216x144 with 2 Axes>"
      ]
     },
     "metadata": {
      "needs_background": "light"
     },
     "output_type": "display_data"
    }
   ],
   "source": [
    "# DecisionTreeClassifier\n",
    "model_select(DecisionTreeClassifier())"
   ]
  },
  {
   "cell_type": "code",
   "execution_count": 23,
   "id": "3567389f",
   "metadata": {},
   "outputs": [
    {
     "name": "stdout",
     "output_type": "stream",
     "text": [
      "Training accuracy:-0.9573060188542422\n",
      "Testing accuracy:-0.936336717428088\n",
      "Accuracy score:-0.936336717428088\n",
      "roc_auc_score:-0.9331899461995844\n",
      "\n",
      "Classification report:-\n",
      "              precision    recall  f1-score   support\n",
      "\n",
      "         0.0       0.95      0.90      0.93      8477\n",
      "         1.0       0.92      0.96      0.94     10435\n",
      "\n",
      "    accuracy                           0.94     18912\n",
      "   macro avg       0.94      0.93      0.94     18912\n",
      "weighted avg       0.94      0.94      0.94     18912\n",
      "\n",
      "\n",
      "Confusion Matrix:-\n",
      "\n"
     ]
    },
    {
     "data": {
      "image/png": "[encoded data removed]",
      "text/plain": [
       "<Figure size 216x144 with 2 Axes>"
      ]
     },
     "metadata": {
      "needs_background": "light"
     },
     "output_type": "display_data"
    }
   ],
   "source": [
    "# KNeighborsClassifier\n",
    "model_select(KNeighborsClassifier())"
   ]
  },
  {
   "cell_type": "markdown",
   "id": "ec0ec2d2",
   "metadata": {},
   "source": [
    "##### From above we can see that we got the best results using SMOTEENN with SVC and KNeighborsClassifier\n",
    "##### Hence applying hyperparameter tuning for SVC and  KNeighborsClassifier"
   ]
  },
  {
   "cell_type": "markdown",
   "id": "1d9cfd39",
   "metadata": {},
   "source": [
    "##### KNeighborsClassifier"
   ]
  },
  {
   "cell_type": "raw",
   "id": "d5122186",
   "metadata": {},
   "source": [
    "hyper_parameter_tuning(KNeighborsClassifier())"
   ]
  },
  {
   "cell_type": "markdown",
   "id": "c2877291",
   "metadata": {},
   "source": [
    "# Ensemble"
   ]
  },
  {
   "cell_type": "code",
   "execution_count": 24,
   "id": "096c8a5b",
   "metadata": {},
   "outputs": [],
   "source": [
    "from sklearn.ensemble import VotingClassifier\n",
    "from sklearn.ensemble import BaggingClassifier"
   ]
  },
  {
   "cell_type": "code",
   "execution_count": 25,
   "id": "1a38abbf",
   "metadata": {},
   "outputs": [],
   "source": [
    "models = []\n",
    "accuracy = []\n",
    "models.append((\"logreg\",LogisticRegression()))\n",
    "models.append((\"DT\",DecisionTreeClassifier()))\n",
    "models.append((\"DT-e\",DecisionTreeClassifier(criterion=\"entropy\")))\n",
    "models.append((\"SVC\",SVC()))"
   ]
  },
  {
   "cell_type": "code",
   "execution_count": 26,
   "id": "9fb55e84",
   "metadata": {},
   "outputs": [
    {
     "name": "stdout",
     "output_type": "stream",
     "text": [
      "Training accuracy:-0.9807378535170413\n",
      "Testing accuracy:-0.9115905245346869\n",
      "Accuracy score:-0.9115905245346869\n",
      "roc_auc_score:-0.9063052260297446\n",
      "\n",
      "Classification report:-\n",
      "              precision    recall  f1-score   support\n",
      "\n",
      "         0.0       0.94      0.86      0.90      8477\n",
      "         1.0       0.89      0.96      0.92     10435\n",
      "\n",
      "    accuracy                           0.91     18912\n",
      "   macro avg       0.92      0.91      0.91     18912\n",
      "weighted avg       0.91      0.91      0.91     18912\n",
      "\n",
      "\n",
      "Confusion Matrix:-\n",
      "\n"
     ]
    },
    {
     "data": {
      "image/png": "[encoded data removed]",
      "text/plain": [
       "<Figure size 216x144 with 2 Axes>"
      ]
     },
     "metadata": {
      "needs_background": "light"
     },
     "output_type": "display_data"
    }
   ],
   "source": [
    "model_select(VotingClassifier(estimators=models,voting=\"hard\"))"
   ]
  },
  {
   "cell_type": "code",
   "execution_count": 27,
   "id": "b86292e3",
   "metadata": {},
   "outputs": [
    {
     "name": "stdout",
     "output_type": "stream",
     "text": [
      "Training accuracy:-0.874388143582306\n",
      "Testing accuracy:-0.8730964467005076\n",
      "Accuracy score:-0.8730964467005076\n",
      "roc_auc_score:-0.8707917740605247\n",
      "\n",
      "Classification report:-\n",
      "              precision    recall  f1-score   support\n",
      "\n",
      "         0.0       0.87      0.85      0.86      8477\n",
      "         1.0       0.88      0.89      0.89     10435\n",
      "\n",
      "    accuracy                           0.87     18912\n",
      "   macro avg       0.87      0.87      0.87     18912\n",
      "weighted avg       0.87      0.87      0.87     18912\n",
      "\n",
      "\n",
      "Confusion Matrix:-\n",
      "\n"
     ]
    },
    {
     "data": {
      "image/png": "[encoded data removed]",
      "text/plain": [
       "<Figure size 216x144 with 2 Axes>"
      ]
     },
     "metadata": {
      "needs_background": "light"
     },
     "output_type": "display_data"
    }
   ],
   "source": [
    "#Bagging\n",
    "\n",
    "model_select(BaggingClassifier(LogisticRegression()))"
   ]
  },
  {
   "cell_type": "code",
   "execution_count": 28,
   "id": "02a147d6",
   "metadata": {
    "scrolled": true
   },
   "outputs": [
    {
     "name": "stdout",
     "output_type": "stream",
     "text": [
      "Training accuracy:-0.997688542422045\n",
      "Testing accuracy:-0.6361040609137056\n",
      "Accuracy score:-0.6361040609137056\n",
      "roc_auc_score:-0.5946425342476632\n",
      "\n",
      "Classification report:-\n",
      "              precision    recall  f1-score   support\n",
      "\n",
      "         0.0       0.97      0.19      0.32      8477\n",
      "         1.0       0.60      1.00      0.75     10435\n",
      "\n",
      "    accuracy                           0.64     18912\n",
      "   macro avg       0.79      0.59      0.54     18912\n",
      "weighted avg       0.77      0.64      0.56     18912\n",
      "\n",
      "\n",
      "Confusion Matrix:-\n",
      "\n"
     ]
    },
    {
     "data": {
      "image/png": "[encoded data removed]",
      "text/plain": [
       "<Figure size 216x144 with 2 Axes>"
      ]
     },
     "metadata": {
      "needs_background": "light"
     },
     "output_type": "display_data"
    }
   ],
   "source": [
    "model_select(BaggingClassifier(DecisionTreeClassifier()))"
   ]
  },
  {
   "cell_type": "code",
   "execution_count": 29,
   "id": "0e5dbc13",
   "metadata": {},
   "outputs": [
    {
     "name": "stdout",
     "output_type": "stream",
     "text": [
      "Training accuracy:-0.9375679840464104\n",
      "Testing accuracy:-0.9300972927241963\n",
      "Accuracy score:-0.9300972927241963\n",
      "roc_auc_score:-0.9281888776072621\n",
      "\n",
      "Classification report:-\n",
      "              precision    recall  f1-score   support\n",
      "\n",
      "         0.0       0.93      0.91      0.92      8477\n",
      "         1.0       0.93      0.95      0.94     10435\n",
      "\n",
      "    accuracy                           0.93     18912\n",
      "   macro avg       0.93      0.93      0.93     18912\n",
      "weighted avg       0.93      0.93      0.93     18912\n",
      "\n",
      "\n",
      "Confusion Matrix:-\n",
      "\n"
     ]
    },
    {
     "data": {
      "image/png": "[encoded data removed]",
      "text/plain": [
       "<Figure size 216x144 with 2 Axes>"
      ]
     },
     "metadata": {
      "needs_background": "light"
     },
     "output_type": "display_data"
    }
   ],
   "source": [
    "model_select(BaggingClassifier(SVC()))"
   ]
  },
  {
   "cell_type": "code",
   "execution_count": 30,
   "id": "ece84bfa",
   "metadata": {},
   "outputs": [],
   "source": [
    "hyper_parameter_tuning(BaggingClassifier(SVC()))"
   ]
  },
  {
   "cell_type": "code",
   "execution_count": 35,
   "id": "d0ba7b6f",
   "metadata": {},
   "outputs": [
    {
     "name": "stdout",
     "output_type": "stream",
     "text": [
      "Training accuracy:-0.9600480420594634\n",
      "Testing accuracy:-0.9375528764805414\n",
      "Accuracy score:-0.9375528764805414\n",
      "roc_auc_score:-0.934756839994169\n",
      "\n",
      "Classification report:-\n",
      "              precision    recall  f1-score   support\n",
      "\n",
      "         0.0       0.95      0.91      0.93      8477\n",
      "         1.0       0.93      0.96      0.94     10435\n",
      "\n",
      "    accuracy                           0.94     18912\n",
      "   macro avg       0.94      0.93      0.94     18912\n",
      "weighted avg       0.94      0.94      0.94     18912\n",
      "\n",
      "\n",
      "Confusion Matrix:-\n",
      "\n"
     ]
    },
    {
     "data": {
      "image/png": "[encoded data removed]",
      "text/plain": [
       "<Figure size 216x144 with 2 Axes>"
      ]
     },
     "metadata": {
      "needs_background": "light"
     },
     "output_type": "display_data"
    }
   ],
   "source": [
    "model_select(BaggingClassifier(KNeighborsClassifier()))"
   ]
  },
  {
   "cell_type": "code",
   "execution_count": 32,
   "id": "b8dbd747",
   "metadata": {},
   "outputs": [],
   "source": [
    "hyper_parameter_tuning(BaggingClassifier(KNeighborsClassifier()))"
   ]
  }
 ],
 "metadata": {
  "kernelspec": {
   "display_name": "Python 3 (ipykernel)",
   "language": "python",
   "name": "python3"
  },
  "language_info": {
   "codemirror_mode": {
    "name": "ipython",
    "version": 3
   },
   "file_extension": ".py",
   "mimetype": "text/x-python",
   "name": "python",
   "nbconvert_exporter": "python",
   "pygments_lexer": "ipython3",
   "version": "3.9.12"
  }
 },
 "nbformat": 4,
 "nbformat_minor": 5
}
